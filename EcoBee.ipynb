{
 "cells": [
  {
   "cell_type": "code",
   "execution_count": 2,
   "metadata": {
    "collapsed": true
   },
   "outputs": [],
   "source": [
    "import requests\n",
    "import json"
   ]
  },
  {
   "cell_type": "code",
   "execution_count": 19,
   "metadata": {
    "collapsed": false
   },
   "outputs": [
    {
     "name": "stdout",
     "output_type": "stream",
     "text": [
      "Your PIN is:  z59b\n"
     ]
    }
   ],
   "source": [
    "#Get EcoBee application PIN and tokens\n",
    "\n",
    "APP_KEY = 'YOUR_API_KEY'\n",
    "SCOPE = 'smartWrite'\n",
    "\n",
    "auth_url = 'https://api.ecobee.com/authorize?'\n",
    "payload = {'response_type':'ecobeePin','client_id': APP_KEY,'scope' : SCOPE}\n",
    "\n",
    "r = requests.get(auth_url,payload)\n",
    "\n",
    "r_dict = json.loads(r.text)\n",
    "\n",
    "print('Your PIN is: ',r_dict['ecobeePin'])"
   ]
  },
  {
   "cell_type": "code",
   "execution_count": 21,
   "metadata": {
    "collapsed": false
   },
   "outputs": [
    {
     "name": "stdout",
     "output_type": "stream",
     "text": [
      "{'expires_in': 3599, 'access_token': '2xRpjOhogkfCoGdwNUncVW5gH1y96OCo', 'refresh_token': '8XmI3m4csdOguojQZubAT0rLShRUKnOo', 'scope': 'smartWrite', 'token_type': 'Bearer'}\n",
      "2xRpjOhogkfCoGdwNUncVW5gH1y96OCo Bearer 8XmI3m4csdOguojQZubAT0rLShRUKnOo\n"
     ]
    },
    {
     "data": {
      "text/plain": [
       "<function TextIOWrapper.close>"
      ]
     },
     "execution_count": 21,
     "metadata": {},
     "output_type": "execute_result"
    }
   ],
   "source": [
    "#Get original tokens after PIN validation\n",
    "\n",
    "#POST https://api.ecobee.com/token?\n",
    "#        grant_type=ecobeePin&\n",
    "#        code=AUTHORIZATION_TOKEN&\n",
    "#        client_id=APP_KEY\n",
    "\n",
    "auth_code = r_dict['code']\n",
    "token_url = 'https://api.ecobee.com/token?'\n",
    "payload = {'grant_type':'ecobeePin','code': auth_code,'client_id': APP_KEY}\n",
    "\n",
    "r_tokens = requests.post(token_url,params=payload)\n",
    "\n",
    "r_tokens_dict = json.loads(r_tokens.text)\n",
    "\n",
    "print(r_tokens_dict)\n",
    "\n",
    "access_token = r_tokens_dict['access_token']\n",
    "token_type = r_tokens_dict['token_type']\n",
    "refresh_token = r_tokens_dict['refresh_token']\n",
    "\n",
    "print(access_token, token_type, refresh_token)\n",
    "\n",
    "#Write tokens to file\n",
    "\n",
    "f=open(\"tokens.txt\",\"w+\")\n",
    "f.write(access_token)\n",
    "f.write(\",\")\n",
    "f.write(token_type)\n",
    "f.write(\",\")\n",
    "f.write(refresh_token)\n",
    "f.close"
   ]
  },
  {
   "cell_type": "code",
   "execution_count": 23,
   "metadata": {
    "collapsed": false
   },
   "outputs": [
    {
     "name": "stdout",
     "output_type": "stream",
     "text": [
      "2xRpjOhogkfCoGdwNUncVW5gH1y96OCo 8XmI3m4csdOguojQZubAT0rLShRUKnOo\n"
     ]
    }
   ],
   "source": [
    "f=open(\"tokens.txt\",\"r\")\n",
    "\n",
    "token_str = str(f.read())\n",
    "\n",
    "f.close\n",
    "\n",
    "token_list = token_str.split(\",\")\n",
    "\n",
    "access_token = token_list[0]\n",
    "token_type = token_list[1]\n",
    "refresh_token = token_list[2]\n",
    "\n",
    "print(access_token, refresh_token)"
   ]
  },
  {
   "cell_type": "code",
   "execution_count": 24,
   "metadata": {
    "collapsed": false
   },
   "outputs": [
    {
     "name": "stdout",
     "output_type": "stream",
     "text": [
      "Bearer 89Bb6LXYNypDSCbiuqvfdZ4e6Ksw6tcQ\n",
      "200\n"
     ]
    },
    {
     "data": {
      "text/plain": [
       "<function TextIOWrapper.close>"
      ]
     },
     "execution_count": 24,
     "metadata": {},
     "output_type": "execute_result"
    }
   ],
   "source": [
    "#Main Program\n",
    "\n",
    "# set up libraries\n",
    "# Start loop including time delay\n",
    "# Set up timekeeping\n",
    "\n",
    "# 1)  Read tokens from file\n",
    "\n",
    "f=open(\"tokens.txt\",\"r\")\n",
    "\n",
    "token_str = str(f.read())\n",
    "\n",
    "f.close\n",
    "\n",
    "token_list = token_str.split(\",\")\n",
    "\n",
    "access_token = token_list[0]\n",
    "token_type = token_list[1]\n",
    "refresh_token = token_list[2]\n",
    "\n",
    "# 2) Submit old refresh token for valid access token and new refresh token\n",
    "\n",
    "token_url='https://api.ecobee.com/token?'\n",
    "payload = {'grant_type':'refresh_token','refresh_token': refresh_token,'client_id': APP_KEY}\n",
    "    \n",
    "r_refresh = requests.post(token_url,params=payload)\n",
    "    \n",
    "r_refresh_dict = json.loads(r_refresh.text)\n",
    "    \n",
    "if r_refresh.status_code == requests.codes.ok:\n",
    "\n",
    "    token_type = r_refresh_dict['token_type']\n",
    "    access_token = r_refresh_dict['access_token']\n",
    "    refresh_token = r_refresh_dict['refresh_token']\n",
    "\n",
    "    auth = (token_type)+' '+(access_token)\n",
    "\n",
    "    print(auth)\n",
    "    \n",
    "print(r_refresh.status_code)\n",
    "\n",
    "# 3) Write new tokens back to file\n",
    "\n",
    "f=open(\"tokens.txt\",\"w+\")\n",
    "f.write(access_token)\n",
    "f.write(\",\")\n",
    "f.write(refresh_token)\n",
    "f.close\n",
    "\n",
    "# 4)  Call EcoBee API to get and parse temperature data into variables\n",
    "\n",
    "# 5)  Decision logic and set booleans for switches\n",
    "\n",
    "# 6)  Call smart switch API(s) to set switch states\n",
    "\n",
    "# 7)  Write variables, states and responses to log file\n",
    "\n",
    "# 8) Very optional ... plot variables\n",
    "\n",
    "# 9)  Close loop\n",
    "\n",
    "\n"
   ]
  },
  {
   "cell_type": "code",
   "execution_count": null,
   "metadata": {
    "collapsed": true
   },
   "outputs": [],
   "source": []
  },
  {
   "cell_type": "code",
   "execution_count": null,
   "metadata": {
    "collapsed": true
   },
   "outputs": [],
   "source": []
  },
  {
   "cell_type": "code",
   "execution_count": 28,
   "metadata": {
    "collapsed": false
   },
   "outputs": [
    {
     "ename": "IndentationError",
     "evalue": "unindent does not match any outer indentation level (<ipython-input-28-50ae0ea087bd>, line 19)",
     "output_type": "error",
     "traceback": [
      "\u001b[0;36m  File \u001b[0;32m\"<ipython-input-28-50ae0ea087bd>\"\u001b[0;36m, line \u001b[0;32m19\u001b[0m\n\u001b[0;31m    else:\u001b[0m\n\u001b[0m         ^\u001b[0m\n\u001b[0;31mIndentationError\u001b[0m\u001b[0;31m:\u001b[0m unindent does not match any outer indentation level\n"
     ]
    }
   ],
   "source": [
    "\n",
    "def get_thermostats(self):\n",
    "\n",
    "    thermostat_url = 'https://api.ecobee.com/1/thermostat?'\n",
    "\n",
    "    payload = {'json': ('{\"selection\":{\"selectionType\":\"registered\",\"includeSensors\":\"true\"}}')}\n",
    "\n",
    "\n",
    "    header = {'Content-Type': 'application/json;charset=UTF-8','Authorization': auth}\n",
    "\n",
    "\n",
    "    request = requests.get(thermostat_url,headers=header,params=payload)\n",
    "\n",
    "\n",
    "    if request.status_code == requests.codes.ok:\n",
    "            self.authenticated = True\n",
    "            self.thermostats = request.json()['thermostatList']\n",
    "            return self.thermostats\n",
    "        else:\n",
    "            self.authenticated = False\n",
    "            logger.info(\"Error connecting to Ecobee while attempting to get \"\n",
    "                  \"thermostat data.  Refreshing tokens and trying again.\")\n",
    "    if self.refresh_tokens():\n",
    "        return self.get_thermostats()\n",
    "            else:\n",
    "                return None\n",
    "\n",
    "def get_thermostat(self, index):\n",
    "        ''' Return a single thermostat based on index '''\n",
    "        return self.thermostats[index]\n",
    "\n",
    "def get_remote_sensors(self, index):\n",
    "        ''' Return remote sensors based on index '''\n",
    "return self.thermostats[index]['remoteSensors']\n",
    "\n",
    "#request_dict = json.loads(request.text)\n",
    "#print(request_dict)\n",
    "#print(request_dict.keys())"
   ]
  },
  {
   "cell_type": "code",
   "execution_count": 30,
   "metadata": {
    "collapsed": false
   },
   "outputs": [
    {
     "ename": "NameError",
     "evalue": "name 'r_thermostat' is not defined",
     "output_type": "error",
     "traceback": [
      "\u001b[0;31m---------------------------------------------------------------------------\u001b[0m",
      "\u001b[0;31mNameError\u001b[0m                                 Traceback (most recent call last)",
      "\u001b[0;32m<ipython-input-30-92c476a3a931>\u001b[0m in \u001b[0;36m<module>\u001b[0;34m()\u001b[0m\n\u001b[0;32m----> 1\u001b[0;31m \u001b[0mself\u001b[0m\u001b[0;34m.\u001b[0m\u001b[0mthermostats\u001b[0m \u001b[0;34m=\u001b[0m \u001b[0mr_thermostat\u001b[0m\u001b[0;34m.\u001b[0m\u001b[0mjson\u001b[0m\u001b[0;34m(\u001b[0m\u001b[0;34m)\u001b[0m\u001b[0;34m[\u001b[0m\u001b[0;34m'thermostatList'\u001b[0m\u001b[0;34m]\u001b[0m\u001b[0;34m\u001b[0m\u001b[0m\n\u001b[0m\u001b[1;32m      2\u001b[0m \u001b[0mprint\u001b[0m\u001b[0;34m(\u001b[0m\u001b[0mself\u001b[0m\u001b[0;34m.\u001b[0m\u001b[0mthermostats\u001b[0m\u001b[0;34m)\u001b[0m\u001b[0;34m\u001b[0m\u001b[0m\n",
      "\u001b[0;31mNameError\u001b[0m: name 'r_thermostat' is not defined"
     ]
    }
   ],
   "source": [
    "self.thermostats = r_thermostat.json()['thermostatList']\n",
    "print(self.thermostats)"
   ]
  },
  {
   "cell_type": "code",
   "execution_count": 199,
   "metadata": {
    "collapsed": false
   },
   "outputs": [
    {
     "ename": "SyntaxError",
     "evalue": "invalid syntax (<ipython-input-199-293917168b7c>, line 17)",
     "output_type": "error",
     "traceback": [
      "\u001b[0;36m  File \u001b[0;32m\"<ipython-input-199-293917168b7c>\"\u001b[0;36m, line \u001b[0;32m17\u001b[0m\n\u001b[0;31m    print(token_r.url)\u001b[0m\n\u001b[0m        ^\u001b[0m\n\u001b[0;31mSyntaxError\u001b[0m\u001b[0;31m:\u001b[0m invalid syntax\n"
     ]
    }
   ],
   "source": [
    "#not used -- attempt to directly call ecobee API \n",
    "\n",
    "import json\n",
    "import requests\n",
    "\n",
    "headers = {'Content-Type':'text/json; charset=utf-8',\n",
    "           'Authorization': access_token}\n",
    "\n",
    "#POST https://api.ecobee.com/token?\n",
    "#    grant_type=refresh_token&\n",
    "#    refresh_token=REFRESH_TOKEN&\n",
    "#   client_id=APP_KEY\n",
    "\n",
    "token_url = 'https://api.ecobee.com/token?'\n",
    "refresh_token = requests.post(token_url,{'grant_type':'refresh_token','refresh_token':'REFRESH TOKEN','client_id': 'tbDjHwLb4cDaKYs4OAat3oImu37e9niu'}\n",
    "\n",
    "#url = 'https://api.ecobee.com/1/thermostat?'\n",
    "\n",
    "#payload = {'selectionType':'registered','selectionMatch':'','includeRuntime':'true'}\n",
    "\n",
    "#r = requests.post(url, headers=headers, json=payload)\n",
    "\n",
    "#requests.post('https://api.ecobee.com/token?',{'grant_type' : 'refresh_token'},)\n",
    "\n",
    "\n",
    "\n",
    "if token_r.status_code == 200:\n",
    "    print('good stuff')\n",
    "else:\n",
    "\n",
    "    response_code = token_r.status_code\n",
    "    print ('error',response_code)\n",
    "#data=r.get('thermostatList').get('name')\n",
    "#print(data)"
   ]
  },
  {
   "cell_type": "code",
   "execution_count": 193,
   "metadata": {
    "collapsed": false
   },
   "outputs": [
    {
     "name": "stdout",
     "output_type": "stream",
     "text": [
      "wngx XyF1TkSHneou6IJcRjr7KgsDOWUxOOwC smartWrite 9 30\n"
     ]
    }
   ],
   "source": [
    "#used to authenticate with EcoBee only\n",
    "\n",
    "import pyecobee\n",
    "from pyecobee import *\n",
    "\n",
    "#dir(EcobeeService)\n",
    "#help(EcobeeService)\n",
    "API_key = 'tbDjHwLb4cDaKYs4OAat3oImu37e9niu'\n",
    "ecobee_service = EcobeeService(thermostat_name='Home',\n",
    "                               application_key=API_key)\n",
    "\n",
    "authorize_response = ecobee_service.authorize()\n",
    "pin = authorize_response.ecobee_pin\n",
    "code = authorize_response.code\n",
    "scope = authorize_response.scope\n",
    "expires_in = authorize_response.expires_in\n",
    "interval = authorize_response.interval\n",
    "\n",
    "print(pin, code, scope, expires_in, interval)\n",
    "\n",
    "#authorize_response = ecobee_service.authorize()\n",
    "#logger.info(authorize_response.pretty_format())\n",
    "#logger.info('Authorization Token => {API_key}'.format(ecobee_service.authorization_token))"
   ]
  },
  {
   "cell_type": "code",
   "execution_count": 196,
   "metadata": {
    "collapsed": false
   },
   "outputs": [
    {
     "name": "stdout",
     "output_type": "stream",
     "text": [
      "[16/Sep/2017 09:59:04] ERROR - EcobeeAuthorizationException raised:\n",
      "Traceback (most recent call last):\n",
      "  File \"/Users/lenoxpod/anaconda/lib/python3.5/site-packages/pyecobee/service.py\", line 155, in __process_http_response\n",
      "    error_response.error_uri)\n",
      "pyecobee.exceptions.EcobeeAuthorizationException: ecobee authorization error encountered for URL => https://api.ecobee.com/token?grant_type=refresh_token&client_id=tbDjHwLb4cDaKYs4OAat3oImu37e9niu\n",
      "HTTP error code => 400\n",
      "Error type => invalid_request\n",
      "Error description => The request is malformed. Check parameters.\n",
      "Error URI => https://tools.ietf.org/html/rfc6749#section-5.2\n"
     ]
    },
    {
     "ename": "EcobeeAuthorizationException",
     "evalue": "ecobee authorization error encountered for URL => https://api.ecobee.com/token?grant_type=refresh_token&client_id=tbDjHwLb4cDaKYs4OAat3oImu37e9niu\nHTTP error code => 400\nError type => invalid_request\nError description => The request is malformed. Check parameters.\nError URI => https://tools.ietf.org/html/rfc6749#section-5.2",
     "output_type": "error",
     "traceback": [
      "\u001b[0;31m---------------------------------------------------------------------------\u001b[0m",
      "\u001b[0;31mEcobeeAuthorizationException\u001b[0m              Traceback (most recent call last)",
      "\u001b[0;32m<ipython-input-196-477faf9e3625>\u001b[0m in \u001b[0;36m<module>\u001b[0;34m()\u001b[0m\n\u001b[1;32m      1\u001b[0m \u001b[0;32mimport\u001b[0m \u001b[0mpyecobee\u001b[0m\u001b[0;34m\u001b[0m\u001b[0m\n\u001b[1;32m      2\u001b[0m \u001b[0;34m\u001b[0m\u001b[0m\n\u001b[0;32m----> 3\u001b[0;31m \u001b[0mtoken_response\u001b[0m \u001b[0;34m=\u001b[0m \u001b[0mecobee_service\u001b[0m\u001b[0;34m.\u001b[0m\u001b[0mrefresh_tokens\u001b[0m\u001b[0;34m(\u001b[0m\u001b[0;34m)\u001b[0m\u001b[0;34m\u001b[0m\u001b[0m\n\u001b[0m\u001b[1;32m      4\u001b[0m \u001b[0;34m\u001b[0m\u001b[0m\n\u001b[1;32m      5\u001b[0m thermostat_summary_response = ecobee_service.request_thermostats_summary(selection=Selection(\n",
      "\u001b[0;32m/Users/lenoxpod/anaconda/lib/python3.5/site-packages/pyecobee/service.py\u001b[0m in \u001b[0;36mrefresh_tokens\u001b[0;34m(self, grant_type, timeout)\u001b[0m\n\u001b[1;32m    299\u001b[0m                                                              'grant_type': grant_type},\n\u001b[1;32m    300\u001b[0m                                                      timeout=timeout)\n\u001b[0;32m--> 301\u001b[0;31m         \u001b[0mtokens_response\u001b[0m \u001b[0;34m=\u001b[0m \u001b[0mEcobeeService\u001b[0m\u001b[0;34m.\u001b[0m\u001b[0m__process_http_response\u001b[0m\u001b[0;34m(\u001b[0m\u001b[0mresponse\u001b[0m\u001b[0;34m,\u001b[0m \u001b[0mEcobeeTokensResponse\u001b[0m\u001b[0;34m)\u001b[0m\u001b[0;34m\u001b[0m\u001b[0m\n\u001b[0m\u001b[1;32m    302\u001b[0m         \u001b[0mself\u001b[0m\u001b[0;34m.\u001b[0m\u001b[0m_access_token\u001b[0m \u001b[0;34m=\u001b[0m \u001b[0mtokens_response\u001b[0m\u001b[0;34m.\u001b[0m\u001b[0maccess_token\u001b[0m\u001b[0;34m\u001b[0m\u001b[0m\n\u001b[1;32m    303\u001b[0m         \u001b[0mself\u001b[0m\u001b[0;34m.\u001b[0m\u001b[0m_access_token_expires_on\u001b[0m \u001b[0;34m=\u001b[0m \u001b[0mnow_utc\u001b[0m \u001b[0;34m+\u001b[0m \u001b[0mtimedelta\u001b[0m\u001b[0;34m(\u001b[0m\u001b[0mseconds\u001b[0m\u001b[0;34m=\u001b[0m\u001b[0mtokens_response\u001b[0m\u001b[0;34m.\u001b[0m\u001b[0mexpires_in\u001b[0m\u001b[0;34m)\u001b[0m\u001b[0;34m\u001b[0m\u001b[0m\n",
      "\u001b[0;32m/Users/lenoxpod/anaconda/lib/python3.5/site-packages/pyecobee/service.py\u001b[0m in \u001b[0;36m__process_http_response\u001b[0;34m(response, response_class)\u001b[0m\n\u001b[1;32m    153\u001b[0m                         \u001b[0merror_response\u001b[0m\u001b[0;34m.\u001b[0m\u001b[0merror\u001b[0m\u001b[0;34m,\u001b[0m\u001b[0;34m\u001b[0m\u001b[0m\n\u001b[1;32m    154\u001b[0m                         \u001b[0merror_response\u001b[0m\u001b[0;34m.\u001b[0m\u001b[0merror_description\u001b[0m\u001b[0;34m,\u001b[0m\u001b[0;34m\u001b[0m\u001b[0m\n\u001b[0;32m--> 155\u001b[0;31m                         error_response.error_uri)\n\u001b[0m\u001b[1;32m    156\u001b[0m                 \u001b[0;32melif\u001b[0m \u001b[0;34m'status'\u001b[0m \u001b[0;32min\u001b[0m \u001b[0mresponse\u001b[0m\u001b[0;34m.\u001b[0m\u001b[0mjson\u001b[0m\u001b[0;34m(\u001b[0m\u001b[0;34m)\u001b[0m\u001b[0;34m:\u001b[0m\u001b[0;34m\u001b[0m\u001b[0m\n\u001b[1;32m    157\u001b[0m                     status = utilities.dictionary_to_object({'Status': response.json()['status']},\n",
      "\u001b[0;31mEcobeeAuthorizationException\u001b[0m: ecobee authorization error encountered for URL => https://api.ecobee.com/token?grant_type=refresh_token&client_id=tbDjHwLb4cDaKYs4OAat3oImu37e9niu\nHTTP error code => 400\nError type => invalid_request\nError description => The request is malformed. Check parameters.\nError URI => https://tools.ietf.org/html/rfc6749#section-5.2"
     ]
    }
   ],
   "source": [
    "import pyecobee\n",
    "\n",
    "token_response = ecobee_service.refresh_tokens()\n",
    "\n",
    "thermostat_summary_response = ecobee_service.request_thermostats_summary(selection=Selection(\n",
    "        selection_type=SelectionType.REGISTERED.value,\n",
    "        selection_match='',\n",
    "        include_equipment_status=True))\n",
    "\n",
    "print(thermostat_summary_response)\n"
   ]
  },
  {
   "cell_type": "code",
   "execution_count": 192,
   "metadata": {
    "collapsed": false
   },
   "outputs": [
    {
     "name": "stdout",
     "output_type": "stream",
     "text": [
      "[16/Sep/2017 09:53:51] ERROR - EcobeeAuthorizationException raised:\n",
      "Traceback (most recent call last):\n",
      "  File \"/Users/lenoxpod/anaconda/lib/python3.5/site-packages/pyecobee/service.py\", line 155, in __process_http_response\n",
      "    error_response.error_uri)\n",
      "pyecobee.exceptions.EcobeeAuthorizationException: ecobee authorization error encountered for URL => https://api.ecobee.com/token?grant_type=refresh_token&client_id=tbDjHwLb4cDaKYs4OAat3oImu37e9niu\n",
      "HTTP error code => 400\n",
      "Error type => invalid_request\n",
      "Error description => The request is malformed. Check parameters.\n",
      "Error URI => https://tools.ietf.org/html/rfc6749#section-5.2\n"
     ]
    },
    {
     "ename": "EcobeeAuthorizationException",
     "evalue": "ecobee authorization error encountered for URL => https://api.ecobee.com/token?grant_type=refresh_token&client_id=tbDjHwLb4cDaKYs4OAat3oImu37e9niu\nHTTP error code => 400\nError type => invalid_request\nError description => The request is malformed. Check parameters.\nError URI => https://tools.ietf.org/html/rfc6749#section-5.2",
     "output_type": "error",
     "traceback": [
      "\u001b[0;31m---------------------------------------------------------------------------\u001b[0m",
      "\u001b[0;31mEcobeeAuthorizationException\u001b[0m              Traceback (most recent call last)",
      "\u001b[0;32m<ipython-input-192-b39271d12b18>\u001b[0m in \u001b[0;36m<module>\u001b[0;34m()\u001b[0m\n\u001b[0;32m----> 1\u001b[0;31m \u001b[0mtoken_response\u001b[0m \u001b[0;34m=\u001b[0m \u001b[0mecobee_service\u001b[0m\u001b[0;34m.\u001b[0m\u001b[0mrefresh_tokens\u001b[0m\u001b[0;34m(\u001b[0m\u001b[0;34m)\u001b[0m\u001b[0;34m\u001b[0m\u001b[0m\n\u001b[0m\u001b[1;32m      2\u001b[0m \u001b[0mprint\u001b[0m\u001b[0;34m(\u001b[0m\u001b[0mtoken_response\u001b[0m\u001b[0;34m)\u001b[0m\u001b[0;34m\u001b[0m\u001b[0m\n",
      "\u001b[0;32m/Users/lenoxpod/anaconda/lib/python3.5/site-packages/pyecobee/service.py\u001b[0m in \u001b[0;36mrefresh_tokens\u001b[0;34m(self, grant_type, timeout)\u001b[0m\n\u001b[1;32m    299\u001b[0m                                                              'grant_type': grant_type},\n\u001b[1;32m    300\u001b[0m                                                      timeout=timeout)\n\u001b[0;32m--> 301\u001b[0;31m         \u001b[0mtokens_response\u001b[0m \u001b[0;34m=\u001b[0m \u001b[0mEcobeeService\u001b[0m\u001b[0;34m.\u001b[0m\u001b[0m__process_http_response\u001b[0m\u001b[0;34m(\u001b[0m\u001b[0mresponse\u001b[0m\u001b[0;34m,\u001b[0m \u001b[0mEcobeeTokensResponse\u001b[0m\u001b[0;34m)\u001b[0m\u001b[0;34m\u001b[0m\u001b[0m\n\u001b[0m\u001b[1;32m    302\u001b[0m         \u001b[0mself\u001b[0m\u001b[0;34m.\u001b[0m\u001b[0m_access_token\u001b[0m \u001b[0;34m=\u001b[0m \u001b[0mtokens_response\u001b[0m\u001b[0;34m.\u001b[0m\u001b[0maccess_token\u001b[0m\u001b[0;34m\u001b[0m\u001b[0m\n\u001b[1;32m    303\u001b[0m         \u001b[0mself\u001b[0m\u001b[0;34m.\u001b[0m\u001b[0m_access_token_expires_on\u001b[0m \u001b[0;34m=\u001b[0m \u001b[0mnow_utc\u001b[0m \u001b[0;34m+\u001b[0m \u001b[0mtimedelta\u001b[0m\u001b[0;34m(\u001b[0m\u001b[0mseconds\u001b[0m\u001b[0;34m=\u001b[0m\u001b[0mtokens_response\u001b[0m\u001b[0;34m.\u001b[0m\u001b[0mexpires_in\u001b[0m\u001b[0;34m)\u001b[0m\u001b[0;34m\u001b[0m\u001b[0m\n",
      "\u001b[0;32m/Users/lenoxpod/anaconda/lib/python3.5/site-packages/pyecobee/service.py\u001b[0m in \u001b[0;36m__process_http_response\u001b[0;34m(response, response_class)\u001b[0m\n\u001b[1;32m    153\u001b[0m                         \u001b[0merror_response\u001b[0m\u001b[0;34m.\u001b[0m\u001b[0merror\u001b[0m\u001b[0;34m,\u001b[0m\u001b[0;34m\u001b[0m\u001b[0m\n\u001b[1;32m    154\u001b[0m                         \u001b[0merror_response\u001b[0m\u001b[0;34m.\u001b[0m\u001b[0merror_description\u001b[0m\u001b[0;34m,\u001b[0m\u001b[0;34m\u001b[0m\u001b[0m\n\u001b[0;32m--> 155\u001b[0;31m                         error_response.error_uri)\n\u001b[0m\u001b[1;32m    156\u001b[0m                 \u001b[0;32melif\u001b[0m \u001b[0;34m'status'\u001b[0m \u001b[0;32min\u001b[0m \u001b[0mresponse\u001b[0m\u001b[0;34m.\u001b[0m\u001b[0mjson\u001b[0m\u001b[0;34m(\u001b[0m\u001b[0;34m)\u001b[0m\u001b[0;34m:\u001b[0m\u001b[0;34m\u001b[0m\u001b[0m\n\u001b[1;32m    157\u001b[0m                     status = utilities.dictionary_to_object({'Status': response.json()['status']},\n",
      "\u001b[0;31mEcobeeAuthorizationException\u001b[0m: ecobee authorization error encountered for URL => https://api.ecobee.com/token?grant_type=refresh_token&client_id=tbDjHwLb4cDaKYs4OAat3oImu37e9niu\nHTTP error code => 400\nError type => invalid_request\nError description => The request is malformed. Check parameters.\nError URI => https://tools.ietf.org/html/rfc6749#section-5.2"
     ]
    }
   ],
   "source": [
    "token_response = ecobee_service.refresh_tokens()\n",
    "print(token_response)"
   ]
  },
  {
   "cell_type": "code",
   "execution_count": null,
   "metadata": {
    "collapsed": true
   },
   "outputs": [],
   "source": []
  },
  {
   "cell_type": "code",
   "execution_count": 182,
   "metadata": {
    "collapsed": false
   },
   "outputs": [
    {
     "ename": "AttributeError",
     "evalue": "'ConnectTimeout' object has no attribute 'message'",
     "output_type": "error",
     "traceback": [
      "\u001b[0;31m---------------------------------------------------------------------------\u001b[0m",
      "\u001b[0;31mtimeout\u001b[0m                                   Traceback (most recent call last)",
      "\u001b[0;32m/Users/lenoxpod/anaconda/lib/python3.5/site-packages/urllib3/connection.py\u001b[0m in \u001b[0;36m_new_conn\u001b[0;34m(self)\u001b[0m\n\u001b[1;32m    140\u001b[0m             conn = connection.create_connection(\n\u001b[0;32m--> 141\u001b[0;31m                 (self.host, self.port), self.timeout, **extra_kw)\n\u001b[0m\u001b[1;32m    142\u001b[0m \u001b[0;34m\u001b[0m\u001b[0m\n",
      "\u001b[0;32m/Users/lenoxpod/anaconda/lib/python3.5/site-packages/urllib3/util/connection.py\u001b[0m in \u001b[0;36mcreate_connection\u001b[0;34m(address, timeout, source_address, socket_options)\u001b[0m\n\u001b[1;32m     82\u001b[0m     \u001b[0;32mif\u001b[0m \u001b[0merr\u001b[0m \u001b[0;32mis\u001b[0m \u001b[0;32mnot\u001b[0m \u001b[0;32mNone\u001b[0m\u001b[0;34m:\u001b[0m\u001b[0;34m\u001b[0m\u001b[0m\n\u001b[0;32m---> 83\u001b[0;31m         \u001b[0;32mraise\u001b[0m \u001b[0merr\u001b[0m\u001b[0;34m\u001b[0m\u001b[0m\n\u001b[0m\u001b[1;32m     84\u001b[0m \u001b[0;34m\u001b[0m\u001b[0m\n",
      "\u001b[0;32m/Users/lenoxpod/anaconda/lib/python3.5/site-packages/urllib3/util/connection.py\u001b[0m in \u001b[0;36mcreate_connection\u001b[0;34m(address, timeout, source_address, socket_options)\u001b[0m\n\u001b[1;32m     72\u001b[0m                 \u001b[0msock\u001b[0m\u001b[0;34m.\u001b[0m\u001b[0mbind\u001b[0m\u001b[0;34m(\u001b[0m\u001b[0msource_address\u001b[0m\u001b[0;34m)\u001b[0m\u001b[0;34m\u001b[0m\u001b[0m\n\u001b[0;32m---> 73\u001b[0;31m             \u001b[0msock\u001b[0m\u001b[0;34m.\u001b[0m\u001b[0mconnect\u001b[0m\u001b[0;34m(\u001b[0m\u001b[0msa\u001b[0m\u001b[0;34m)\u001b[0m\u001b[0;34m\u001b[0m\u001b[0m\n\u001b[0m\u001b[1;32m     74\u001b[0m             \u001b[0;32mreturn\u001b[0m \u001b[0msock\u001b[0m\u001b[0;34m\u001b[0m\u001b[0m\n",
      "\u001b[0;31mtimeout\u001b[0m: timed out",
      "\nDuring handling of the above exception, another exception occurred:\n",
      "\u001b[0;31mConnectTimeoutError\u001b[0m                       Traceback (most recent call last)",
      "\u001b[0;32m/Users/lenoxpod/anaconda/lib/python3.5/site-packages/urllib3/connectionpool.py\u001b[0m in \u001b[0;36murlopen\u001b[0;34m(self, method, url, body, headers, retries, redirect, assert_same_host, timeout, pool_timeout, release_conn, chunked, body_pos, **response_kw)\u001b[0m\n\u001b[1;32m    600\u001b[0m                                                   \u001b[0mbody\u001b[0m\u001b[0;34m=\u001b[0m\u001b[0mbody\u001b[0m\u001b[0;34m,\u001b[0m \u001b[0mheaders\u001b[0m\u001b[0;34m=\u001b[0m\u001b[0mheaders\u001b[0m\u001b[0;34m,\u001b[0m\u001b[0;34m\u001b[0m\u001b[0m\n\u001b[0;32m--> 601\u001b[0;31m                                                   chunked=chunked)\n\u001b[0m\u001b[1;32m    602\u001b[0m \u001b[0;34m\u001b[0m\u001b[0m\n",
      "\u001b[0;32m/Users/lenoxpod/anaconda/lib/python3.5/site-packages/urllib3/connectionpool.py\u001b[0m in \u001b[0;36m_make_request\u001b[0;34m(self, conn, method, url, timeout, chunked, **httplib_request_kw)\u001b[0m\n\u001b[1;32m    345\u001b[0m         \u001b[0;32mtry\u001b[0m\u001b[0;34m:\u001b[0m\u001b[0;34m\u001b[0m\u001b[0m\n\u001b[0;32m--> 346\u001b[0;31m             \u001b[0mself\u001b[0m\u001b[0;34m.\u001b[0m\u001b[0m_validate_conn\u001b[0m\u001b[0;34m(\u001b[0m\u001b[0mconn\u001b[0m\u001b[0;34m)\u001b[0m\u001b[0;34m\u001b[0m\u001b[0m\n\u001b[0m\u001b[1;32m    347\u001b[0m         \u001b[0;32mexcept\u001b[0m \u001b[0;34m(\u001b[0m\u001b[0mSocketTimeout\u001b[0m\u001b[0;34m,\u001b[0m \u001b[0mBaseSSLError\u001b[0m\u001b[0;34m)\u001b[0m \u001b[0;32mas\u001b[0m \u001b[0me\u001b[0m\u001b[0;34m:\u001b[0m\u001b[0;34m\u001b[0m\u001b[0m\n",
      "\u001b[0;32m/Users/lenoxpod/anaconda/lib/python3.5/site-packages/urllib3/connectionpool.py\u001b[0m in \u001b[0;36m_validate_conn\u001b[0;34m(self, conn)\u001b[0m\n\u001b[1;32m    849\u001b[0m         \u001b[0;32mif\u001b[0m \u001b[0;32mnot\u001b[0m \u001b[0mgetattr\u001b[0m\u001b[0;34m(\u001b[0m\u001b[0mconn\u001b[0m\u001b[0;34m,\u001b[0m \u001b[0;34m'sock'\u001b[0m\u001b[0;34m,\u001b[0m \u001b[0;32mNone\u001b[0m\u001b[0;34m)\u001b[0m\u001b[0;34m:\u001b[0m  \u001b[0;31m# AppEngine might not have  `.sock`\u001b[0m\u001b[0;34m\u001b[0m\u001b[0m\n\u001b[0;32m--> 850\u001b[0;31m             \u001b[0mconn\u001b[0m\u001b[0;34m.\u001b[0m\u001b[0mconnect\u001b[0m\u001b[0;34m(\u001b[0m\u001b[0;34m)\u001b[0m\u001b[0;34m\u001b[0m\u001b[0m\n\u001b[0m\u001b[1;32m    851\u001b[0m \u001b[0;34m\u001b[0m\u001b[0m\n",
      "\u001b[0;32m/Users/lenoxpod/anaconda/lib/python3.5/site-packages/urllib3/connection.py\u001b[0m in \u001b[0;36mconnect\u001b[0;34m(self)\u001b[0m\n\u001b[1;32m    283\u001b[0m         \u001b[0;31m# Add certificate verification\u001b[0m\u001b[0;34m\u001b[0m\u001b[0;34m\u001b[0m\u001b[0m\n\u001b[0;32m--> 284\u001b[0;31m         \u001b[0mconn\u001b[0m \u001b[0;34m=\u001b[0m \u001b[0mself\u001b[0m\u001b[0;34m.\u001b[0m\u001b[0m_new_conn\u001b[0m\u001b[0;34m(\u001b[0m\u001b[0;34m)\u001b[0m\u001b[0;34m\u001b[0m\u001b[0m\n\u001b[0m\u001b[1;32m    285\u001b[0m \u001b[0;34m\u001b[0m\u001b[0m\n",
      "\u001b[0;32m/Users/lenoxpod/anaconda/lib/python3.5/site-packages/urllib3/connection.py\u001b[0m in \u001b[0;36m_new_conn\u001b[0;34m(self)\u001b[0m\n\u001b[1;32m    145\u001b[0m                 \u001b[0mself\u001b[0m\u001b[0;34m,\u001b[0m \u001b[0;34m\"Connection to %s timed out. (connect timeout=%s)\"\u001b[0m \u001b[0;34m%\u001b[0m\u001b[0;34m\u001b[0m\u001b[0m\n\u001b[0;32m--> 146\u001b[0;31m                 (self.host, self.timeout))\n\u001b[0m\u001b[1;32m    147\u001b[0m \u001b[0;34m\u001b[0m\u001b[0m\n",
      "\u001b[0;31mConnectTimeoutError\u001b[0m: (<urllib3.connection.VerifiedHTTPSConnection object at 0x103e8ff28>, 'Connection to api.ecobee.com timed out. (connect timeout=5)')",
      "\nDuring handling of the above exception, another exception occurred:\n",
      "\u001b[0;31mMaxRetryError\u001b[0m                             Traceback (most recent call last)",
      "\u001b[0;32m/Users/lenoxpod/anaconda/lib/python3.5/site-packages/requests/adapters.py\u001b[0m in \u001b[0;36msend\u001b[0;34m(self, request, stream, timeout, verify, cert, proxies)\u001b[0m\n\u001b[1;32m    439\u001b[0m                     \u001b[0mretries\u001b[0m\u001b[0;34m=\u001b[0m\u001b[0mself\u001b[0m\u001b[0;34m.\u001b[0m\u001b[0mmax_retries\u001b[0m\u001b[0;34m,\u001b[0m\u001b[0;34m\u001b[0m\u001b[0m\n\u001b[0;32m--> 440\u001b[0;31m                     \u001b[0mtimeout\u001b[0m\u001b[0;34m=\u001b[0m\u001b[0mtimeout\u001b[0m\u001b[0;34m\u001b[0m\u001b[0m\n\u001b[0m\u001b[1;32m    441\u001b[0m                 )\n",
      "\u001b[0;32m/Users/lenoxpod/anaconda/lib/python3.5/site-packages/urllib3/connectionpool.py\u001b[0m in \u001b[0;36murlopen\u001b[0;34m(self, method, url, body, headers, retries, redirect, assert_same_host, timeout, pool_timeout, release_conn, chunked, body_pos, **response_kw)\u001b[0m\n\u001b[1;32m    638\u001b[0m             retries = retries.increment(method, url, error=e, _pool=self,\n\u001b[0;32m--> 639\u001b[0;31m                                         _stacktrace=sys.exc_info()[2])\n\u001b[0m\u001b[1;32m    640\u001b[0m             \u001b[0mretries\u001b[0m\u001b[0;34m.\u001b[0m\u001b[0msleep\u001b[0m\u001b[0;34m(\u001b[0m\u001b[0;34m)\u001b[0m\u001b[0;34m\u001b[0m\u001b[0m\n",
      "\u001b[0;32m/Users/lenoxpod/anaconda/lib/python3.5/site-packages/urllib3/util/retry.py\u001b[0m in \u001b[0;36mincrement\u001b[0;34m(self, method, url, response, error, _pool, _stacktrace)\u001b[0m\n\u001b[1;32m    387\u001b[0m         \u001b[0;32mif\u001b[0m \u001b[0mnew_retry\u001b[0m\u001b[0;34m.\u001b[0m\u001b[0mis_exhausted\u001b[0m\u001b[0;34m(\u001b[0m\u001b[0;34m)\u001b[0m\u001b[0;34m:\u001b[0m\u001b[0;34m\u001b[0m\u001b[0m\n\u001b[0;32m--> 388\u001b[0;31m             \u001b[0;32mraise\u001b[0m \u001b[0mMaxRetryError\u001b[0m\u001b[0;34m(\u001b[0m\u001b[0m_pool\u001b[0m\u001b[0;34m,\u001b[0m \u001b[0murl\u001b[0m\u001b[0;34m,\u001b[0m \u001b[0merror\u001b[0m \u001b[0;32mor\u001b[0m \u001b[0mResponseError\u001b[0m\u001b[0;34m(\u001b[0m\u001b[0mcause\u001b[0m\u001b[0;34m)\u001b[0m\u001b[0;34m)\u001b[0m\u001b[0;34m\u001b[0m\u001b[0m\n\u001b[0m\u001b[1;32m    389\u001b[0m \u001b[0;34m\u001b[0m\u001b[0m\n",
      "\u001b[0;31mMaxRetryError\u001b[0m: HTTPSConnectionPool(host='api.ecobee.com', port=443): Max retries exceeded with url: /1/thermostat?json=%7B%0A++%22selection%22%3A+%7B%0A++++%22includeSensors%22%3A+true%2C%0A++++%22selectionMatch%22%3A+%22%22%2C%0A++++%22selectionType%22%3A+%22registered%22%0A++%7D%0A%7D (Caused by ConnectTimeoutError(<urllib3.connection.VerifiedHTTPSConnection object at 0x103e8ff28>, 'Connection to api.ecobee.com timed out. (connect timeout=5)'))",
      "\nDuring handling of the above exception, another exception occurred:\n",
      "\u001b[0;31mConnectTimeout\u001b[0m                            Traceback (most recent call last)",
      "\u001b[0;32m/Users/lenoxpod/anaconda/lib/python3.5/site-packages/pyecobee/service.py\u001b[0m in \u001b[0;36m__make_http_request\u001b[0;34m(requests_http_method, url, headers, params, json_, timeout)\u001b[0m\n\u001b[1;32m    201\u001b[0m                                         \u001b[0mjson\u001b[0m\u001b[0;34m=\u001b[0m\u001b[0mjson_\u001b[0m\u001b[0;34m,\u001b[0m\u001b[0;34m\u001b[0m\u001b[0m\n\u001b[0;32m--> 202\u001b[0;31m                                         timeout=timeout)\n\u001b[0m\u001b[1;32m    203\u001b[0m         \u001b[0;32mexcept\u001b[0m \u001b[0mrequests\u001b[0m\u001b[0;34m.\u001b[0m\u001b[0mexceptions\u001b[0m\u001b[0;34m.\u001b[0m\u001b[0mRequestException\u001b[0m \u001b[0;32mas\u001b[0m \u001b[0mre\u001b[0m\u001b[0;34m:\u001b[0m\u001b[0;34m\u001b[0m\u001b[0m\n",
      "\u001b[0;32m/Users/lenoxpod/anaconda/lib/python3.5/site-packages/requests/api.py\u001b[0m in \u001b[0;36mget\u001b[0;34m(url, params, **kwargs)\u001b[0m\n\u001b[1;32m     71\u001b[0m     \u001b[0mkwargs\u001b[0m\u001b[0;34m.\u001b[0m\u001b[0msetdefault\u001b[0m\u001b[0;34m(\u001b[0m\u001b[0;34m'allow_redirects'\u001b[0m\u001b[0;34m,\u001b[0m \u001b[0;32mTrue\u001b[0m\u001b[0;34m)\u001b[0m\u001b[0;34m\u001b[0m\u001b[0m\n\u001b[0;32m---> 72\u001b[0;31m     \u001b[0;32mreturn\u001b[0m \u001b[0mrequest\u001b[0m\u001b[0;34m(\u001b[0m\u001b[0;34m'get'\u001b[0m\u001b[0;34m,\u001b[0m \u001b[0murl\u001b[0m\u001b[0;34m,\u001b[0m \u001b[0mparams\u001b[0m\u001b[0;34m=\u001b[0m\u001b[0mparams\u001b[0m\u001b[0;34m,\u001b[0m \u001b[0;34m**\u001b[0m\u001b[0mkwargs\u001b[0m\u001b[0;34m)\u001b[0m\u001b[0;34m\u001b[0m\u001b[0m\n\u001b[0m\u001b[1;32m     73\u001b[0m \u001b[0;34m\u001b[0m\u001b[0m\n",
      "\u001b[0;32m/Users/lenoxpod/anaconda/lib/python3.5/site-packages/requests/api.py\u001b[0m in \u001b[0;36mrequest\u001b[0;34m(method, url, **kwargs)\u001b[0m\n\u001b[1;32m     57\u001b[0m     \u001b[0;32mwith\u001b[0m \u001b[0msessions\u001b[0m\u001b[0;34m.\u001b[0m\u001b[0mSession\u001b[0m\u001b[0;34m(\u001b[0m\u001b[0;34m)\u001b[0m \u001b[0;32mas\u001b[0m \u001b[0msession\u001b[0m\u001b[0;34m:\u001b[0m\u001b[0;34m\u001b[0m\u001b[0m\n\u001b[0;32m---> 58\u001b[0;31m         \u001b[0;32mreturn\u001b[0m \u001b[0msession\u001b[0m\u001b[0;34m.\u001b[0m\u001b[0mrequest\u001b[0m\u001b[0;34m(\u001b[0m\u001b[0mmethod\u001b[0m\u001b[0;34m=\u001b[0m\u001b[0mmethod\u001b[0m\u001b[0;34m,\u001b[0m \u001b[0murl\u001b[0m\u001b[0;34m=\u001b[0m\u001b[0murl\u001b[0m\u001b[0;34m,\u001b[0m \u001b[0;34m**\u001b[0m\u001b[0mkwargs\u001b[0m\u001b[0;34m)\u001b[0m\u001b[0;34m\u001b[0m\u001b[0m\n\u001b[0m\u001b[1;32m     59\u001b[0m \u001b[0;34m\u001b[0m\u001b[0m\n",
      "\u001b[0;32m/Users/lenoxpod/anaconda/lib/python3.5/site-packages/requests/sessions.py\u001b[0m in \u001b[0;36mrequest\u001b[0;34m(self, method, url, params, data, headers, cookies, files, auth, timeout, allow_redirects, proxies, hooks, stream, verify, cert, json)\u001b[0m\n\u001b[1;32m    507\u001b[0m         \u001b[0msend_kwargs\u001b[0m\u001b[0;34m.\u001b[0m\u001b[0mupdate\u001b[0m\u001b[0;34m(\u001b[0m\u001b[0msettings\u001b[0m\u001b[0;34m)\u001b[0m\u001b[0;34m\u001b[0m\u001b[0m\n\u001b[0;32m--> 508\u001b[0;31m         \u001b[0mresp\u001b[0m \u001b[0;34m=\u001b[0m \u001b[0mself\u001b[0m\u001b[0;34m.\u001b[0m\u001b[0msend\u001b[0m\u001b[0;34m(\u001b[0m\u001b[0mprep\u001b[0m\u001b[0;34m,\u001b[0m \u001b[0;34m**\u001b[0m\u001b[0msend_kwargs\u001b[0m\u001b[0;34m)\u001b[0m\u001b[0;34m\u001b[0m\u001b[0m\n\u001b[0m\u001b[1;32m    509\u001b[0m \u001b[0;34m\u001b[0m\u001b[0m\n",
      "\u001b[0;32m/Users/lenoxpod/anaconda/lib/python3.5/site-packages/requests/sessions.py\u001b[0m in \u001b[0;36msend\u001b[0;34m(self, request, **kwargs)\u001b[0m\n\u001b[1;32m    617\u001b[0m         \u001b[0;31m# Send the request\u001b[0m\u001b[0;34m\u001b[0m\u001b[0;34m\u001b[0m\u001b[0m\n\u001b[0;32m--> 618\u001b[0;31m         \u001b[0mr\u001b[0m \u001b[0;34m=\u001b[0m \u001b[0madapter\u001b[0m\u001b[0;34m.\u001b[0m\u001b[0msend\u001b[0m\u001b[0;34m(\u001b[0m\u001b[0mrequest\u001b[0m\u001b[0;34m,\u001b[0m \u001b[0;34m**\u001b[0m\u001b[0mkwargs\u001b[0m\u001b[0;34m)\u001b[0m\u001b[0;34m\u001b[0m\u001b[0m\n\u001b[0m\u001b[1;32m    619\u001b[0m \u001b[0;34m\u001b[0m\u001b[0m\n",
      "\u001b[0;32m/Users/lenoxpod/anaconda/lib/python3.5/site-packages/requests/adapters.py\u001b[0m in \u001b[0;36msend\u001b[0;34m(self, request, stream, timeout, verify, cert, proxies)\u001b[0m\n\u001b[1;32m    495\u001b[0m                 \u001b[0;32mif\u001b[0m \u001b[0;32mnot\u001b[0m \u001b[0misinstance\u001b[0m\u001b[0;34m(\u001b[0m\u001b[0me\u001b[0m\u001b[0;34m.\u001b[0m\u001b[0mreason\u001b[0m\u001b[0;34m,\u001b[0m \u001b[0mNewConnectionError\u001b[0m\u001b[0;34m)\u001b[0m\u001b[0;34m:\u001b[0m\u001b[0;34m\u001b[0m\u001b[0m\n\u001b[0;32m--> 496\u001b[0;31m                     \u001b[0;32mraise\u001b[0m \u001b[0mConnectTimeout\u001b[0m\u001b[0;34m(\u001b[0m\u001b[0me\u001b[0m\u001b[0;34m,\u001b[0m \u001b[0mrequest\u001b[0m\u001b[0;34m=\u001b[0m\u001b[0mrequest\u001b[0m\u001b[0;34m)\u001b[0m\u001b[0;34m\u001b[0m\u001b[0m\n\u001b[0m\u001b[1;32m    497\u001b[0m \u001b[0;34m\u001b[0m\u001b[0m\n",
      "\u001b[0;31mConnectTimeout\u001b[0m: HTTPSConnectionPool(host='api.ecobee.com', port=443): Max retries exceeded with url: /1/thermostat?json=%7B%0A++%22selection%22%3A+%7B%0A++++%22includeSensors%22%3A+true%2C%0A++++%22selectionMatch%22%3A+%22%22%2C%0A++++%22selectionType%22%3A+%22registered%22%0A++%7D%0A%7D (Caused by ConnectTimeoutError(<urllib3.connection.VerifiedHTTPSConnection object at 0x103e8ff28>, 'Connection to api.ecobee.com timed out. (connect timeout=5)'))",
      "\nDuring handling of the above exception, another exception occurred:\n",
      "\u001b[0;31mAttributeError\u001b[0m                            Traceback (most recent call last)",
      "\u001b[0;32m<ipython-input-182-8b19105c7576>\u001b[0m in \u001b[0;36m<module>\u001b[0;34m()\u001b[0m\n\u001b[1;32m     27\u001b[0m     \u001b[0;31m#Returns the thermostat_response object including the temperature readings\u001b[0m\u001b[0;34m\u001b[0m\u001b[0;34m\u001b[0m\u001b[0m\n\u001b[1;32m     28\u001b[0m \u001b[0;34m\u001b[0m\u001b[0m\n\u001b[0;32m---> 29\u001b[0;31m     \u001b[0mthermostat_response\u001b[0m \u001b[0;34m=\u001b[0m \u001b[0mecobee_service\u001b[0m\u001b[0;34m.\u001b[0m\u001b[0mrequest_thermostats\u001b[0m\u001b[0;34m(\u001b[0m\u001b[0mselection\u001b[0m\u001b[0;34m)\u001b[0m\u001b[0;34m\u001b[0m\u001b[0m\n\u001b[0m\u001b[1;32m     30\u001b[0m \u001b[0;34m\u001b[0m\u001b[0m\n\u001b[1;32m     31\u001b[0m     \u001b[0;31m#convert this response to a string, and then a tuple\u001b[0m\u001b[0;34m\u001b[0m\u001b[0;34m\u001b[0m\u001b[0m\n",
      "\u001b[0;32m/Users/lenoxpod/anaconda/lib/python3.5/site-packages/pyecobee/service.py\u001b[0m in \u001b[0;36mrequest_thermostats\u001b[0;34m(self, selection, timeout)\u001b[0m\n\u001b[1;32m    364\u001b[0m                                                               'Content-Type': 'application/json;charset=UTF-8'},\n\u001b[1;32m    365\u001b[0m                                                      \u001b[0mparams\u001b[0m\u001b[0;34m=\u001b[0m\u001b[0;34m{\u001b[0m\u001b[0;34m'json'\u001b[0m\u001b[0;34m:\u001b[0m \u001b[0mjson\u001b[0m\u001b[0;34m.\u001b[0m\u001b[0mdumps\u001b[0m\u001b[0;34m(\u001b[0m\u001b[0mdictionary\u001b[0m\u001b[0;34m,\u001b[0m \u001b[0msort_keys\u001b[0m\u001b[0;34m=\u001b[0m\u001b[0;32mTrue\u001b[0m\u001b[0;34m,\u001b[0m \u001b[0mindent\u001b[0m\u001b[0;34m=\u001b[0m\u001b[0;36m2\u001b[0m\u001b[0;34m)\u001b[0m\u001b[0;34m}\u001b[0m\u001b[0;34m,\u001b[0m\u001b[0;34m\u001b[0m\u001b[0m\n\u001b[0;32m--> 366\u001b[0;31m                                                      timeout=timeout)\n\u001b[0m\u001b[1;32m    367\u001b[0m         \u001b[0;32mreturn\u001b[0m \u001b[0mEcobeeService\u001b[0m\u001b[0;34m.\u001b[0m\u001b[0m__process_http_response\u001b[0m\u001b[0;34m(\u001b[0m\u001b[0mresponse\u001b[0m\u001b[0;34m,\u001b[0m \u001b[0mEcobeeThermostatResponse\u001b[0m\u001b[0;34m)\u001b[0m\u001b[0;34m\u001b[0m\u001b[0m\n\u001b[1;32m    368\u001b[0m \u001b[0;34m\u001b[0m\u001b[0m\n",
      "\u001b[0;32m/Users/lenoxpod/anaconda/lib/python3.5/site-packages/pyecobee/service.py\u001b[0m in \u001b[0;36m__make_http_request\u001b[0;34m(requests_http_method, url, headers, params, json_, timeout)\u001b[0m\n\u001b[1;32m    203\u001b[0m         \u001b[0;32mexcept\u001b[0m \u001b[0mrequests\u001b[0m\u001b[0;34m.\u001b[0m\u001b[0mexceptions\u001b[0m\u001b[0;34m.\u001b[0m\u001b[0mRequestException\u001b[0m \u001b[0;32mas\u001b[0m \u001b[0mre\u001b[0m\u001b[0;34m:\u001b[0m\u001b[0;34m\u001b[0m\u001b[0m\n\u001b[1;32m    204\u001b[0m             \u001b[0mtraceback\u001b[0m \u001b[0;34m=\u001b[0m \u001b[0msys\u001b[0m\u001b[0;34m.\u001b[0m\u001b[0mexc_info\u001b[0m\u001b[0;34m(\u001b[0m\u001b[0;34m)\u001b[0m\u001b[0;34m[\u001b[0m\u001b[0;36m2\u001b[0m\u001b[0;34m]\u001b[0m\u001b[0;34m\u001b[0m\u001b[0m\n\u001b[0;32m--> 205\u001b[0;31m             \u001b[0mraise_\u001b[0m\u001b[0;34m(\u001b[0m\u001b[0mEcobeeRequestsException\u001b[0m\u001b[0;34m,\u001b[0m \u001b[0mre\u001b[0m\u001b[0;34m.\u001b[0m\u001b[0mmessage\u001b[0m\u001b[0;34m,\u001b[0m \u001b[0mtraceback\u001b[0m\u001b[0;34m)\u001b[0m\u001b[0;34m\u001b[0m\u001b[0m\n\u001b[0m\u001b[1;32m    206\u001b[0m \u001b[0;34m\u001b[0m\u001b[0m\n\u001b[1;32m    207\u001b[0m     \u001b[0;32mdef\u001b[0m \u001b[0mauthorize\u001b[0m\u001b[0;34m(\u001b[0m\u001b[0mself\u001b[0m\u001b[0;34m,\u001b[0m \u001b[0mresponse_type\u001b[0m\u001b[0;34m=\u001b[0m\u001b[0;34m'ecobeePin'\u001b[0m\u001b[0;34m,\u001b[0m \u001b[0mtimeout\u001b[0m\u001b[0;34m=\u001b[0m\u001b[0;36m5\u001b[0m\u001b[0;34m)\u001b[0m\u001b[0;34m:\u001b[0m\u001b[0;34m\u001b[0m\u001b[0m\n",
      "\u001b[0;31mAttributeError\u001b[0m: 'ConnectTimeout' object has no attribute 'message'"
     ]
    }
   ],
   "source": [
    "from time import sleep\n",
    "import datetime\n",
    "\n",
    "#initialize plug states before loop\n",
    "\n",
    "office_plug_on = False \n",
    "mbed_plug_on = False \n",
    "orm_plug_on = False \n",
    "lrm_plug_on = False \n",
    "\n",
    "while True:\n",
    "        \n",
    "# Full payload here for reference, not used  \n",
    "# selection = Selection(selection_type=SelectionType.REGISTERED.value, selection_match='', include_alerts=True,\n",
    "#                     include_device=True, include_electricity=False, include_equipment_status=False,\n",
    "#                    include_events=False, include_extended_runtime=False, include_house_details=False,\n",
    "#                      include_location=False, include_management=False, include_notification_settings=False,\n",
    "#                      include_oem_cfg=False, include_privacy=False, include_program=False, include_reminders=False,\n",
    "#                      include_runtime=False, include_security_settings=False, include_sensors=True,\n",
    "#                      include_settings=False, include_technician=False, include_utility=False, include_version=False,\n",
    "#                      include_weather=False)\n",
    "\n",
    "    #selection of parameters\n",
    "    \n",
    "    selection = Selection(selection_type=SelectionType.REGISTERED.value, selection_match='',include_sensors=True)\n",
    "\n",
    "    #Returns the thermostat_response object including the temperature readings\n",
    "\n",
    "    thermostat_response = ecobee_service.request_thermostats(selection)\n",
    "\n",
    "    #convert this response to a string, and then a tuple\n",
    "\n",
    "    tstat_string = str(thermostat_response)\n",
    "\n",
    "    tstat_list = tstat_string.split(\",\")\n",
    "\n",
    "    tstat_tuple = tuple(tstat_list,)\n",
    "\n",
    "    #uncomment and use this to determine location of new values\n",
    "    # e.g. remote sensor readings\n",
    "    \n",
    "    x = 0\n",
    "    \n",
    "    while x <= 100:\n",
    "   \n",
    "        print(x, tstat_tuple[x]) \n",
    "    \n",
    "        x = x+1\n",
    "    \n",
    "    # get the values from the tuple\n",
    "\n",
    "    tstat_name = tstat_tuple[47][7:-1]\n",
    "\n",
    "    tstat_temp_string = tstat_tuple[53][8:-2]\n",
    "\n",
    "    #Convert temp string to an number\n",
    "\n",
    "    tstat_temp = float(tstat_temp_string)/10\n",
    "    \n",
    "    #timestamp and time for logic\n",
    "\n",
    "    timestamp = '{:%Y-%m-%d %H:%M:%S}'.format(datetime.datetime.now())\n",
    "\n",
    "    dectime = float(timestamp[11:13])+float(timestamp[14:16])/60\n",
    "    \n",
    "    # Setpoints and logic for smart plug state\n",
    "    # Temp setpoints in F\n",
    "    # Time setpoints in decimal hours, 24 hour time\n",
    "    \n",
    "    office_temp_upp = 68.0\n",
    "    office_temp_low = 65.0\n",
    "    office_on_from_time = 19.0\n",
    "    office_on_to_time = 8.0\n",
    "    \n",
    "    #debug conditionals\n",
    "    \n",
    "    #print('temp under lower bound:',tstat_temp <= temp_low)\n",
    "    #print('time in bounds:',dectime >= on_from_time and dectime <= on_to_time)\n",
    "    \n",
    "    if tstat_temp <= office_temp_low and dectime >= office_on_from_time and dectime <= office_on_to_time:\n",
    "        office_plug_on = True\n",
    "        office_plug_state = 1\n",
    "    elif tstat_temp >= office_temp_upp or dectime < office_on_from_time or dectime > office_on_to_time:\n",
    "        office_plug_on = False\n",
    "        office_plug_state = 2\n",
    "    else:\n",
    "        office_plug_on = office_plug_on\n",
    "        office_plugstate = 3\n",
    "    \n",
    "    #End logic\n",
    "    \n",
    "    print(timestamp, tstat_name, tstat_temp, 'Office plug is On? ',office_plug_on)\n",
    "    \n",
    "    sleep(300) \n",
    "\n",
    "    \n",
    "    token_response = ecobee_service.refresh_tokens() #refresh token\n",
    "\n",
    "    #Next step ... Do similar to above for sensors\n",
    "    #Exception handling to exit the loop & error message\n",
    "    #logging\n",
    "    #Link to smart plug\n",
    "    #plotly?\n"
   ]
  },
  {
   "cell_type": "code",
   "execution_count": null,
   "metadata": {
    "collapsed": false
   },
   "outputs": [],
   "source": [
    "    # logic simulator -- test before using above\n",
    "    i = 0\n",
    "    j = 0\n",
    "    tstat_temp = 65.0\n",
    "    dectime = 0\n",
    "    plug_on = True\n",
    "    temp_upp = 68.0\n",
    "    temp_low = 65.0\n",
    "    on_from_time = 1\n",
    "    on_to_time = 2\n",
    "    \n",
    "    for i in range (0,4):\n",
    "        for j in range (0,6):\n",
    "     \n",
    "            if tstat_temp <= temp_low and dectime >= on_from_time and dectime <= on_to_time:\n",
    "                plug_on = True\n",
    "            elif tstat_temp >= temp_upp or dectime < on_from_time or dectime > on_to_time:\n",
    "                plug_on = False\n",
    "            else:\n",
    "                plug_on = plug_on\n",
    "        \n",
    "            print(dectime, tstat_temp, plug_on)\n",
    "            tstat_temp = tstat_temp + 1  \n",
    "            j = j+1\n",
    "        dectime = dectime + 1\n",
    "        tstat_temp = 65\n",
    "        i = i+1\n",
    "    print('_________________________________')    \n",
    "    tstat_temp = 70\n",
    "    dectime = 0\n",
    "    for i in range (0,4):\n",
    "        for j in range (0,6):\n",
    "     \n",
    "            if tstat_temp <= temp_low and dectime >= on_from_time and dectime <= on_to_time:\n",
    "                plug_on = True\n",
    "            elif tstat_temp >= temp_upp or dectime < on_from_time or dectime > on_to_time:\n",
    "                plug_on = False\n",
    "            else:\n",
    "                plug_on = plug_on\n",
    "        \n",
    "            print(dectime, tstat_temp, plug_on)\n",
    "            tstat_temp = tstat_temp - 1  \n",
    "            j = j+1\n",
    "        dectime = dectime + 1\n",
    "        tstat_temp = 70\n",
    "        i = i+1"
   ]
  },
  {
   "cell_type": "code",
   "execution_count": 160,
   "metadata": {
    "collapsed": false
   },
   "outputs": [
    {
     "name": "stdout",
     "output_type": "stream",
     "text": [
      "9 39 0.65\n",
      "2017-09-10 09:39:20 9.65\n"
     ]
    }
   ],
   "source": [
    "timestamp = '{:%Y-%m-%d %H:%M:%S}'.format(datetime.datetime.now())\n",
    "\n",
    "hour = timestamp[12:13]\n",
    "minute = timestamp[14:16]\n",
    "decminute = float(minute)/60\n",
    "\n",
    "print(hour, minute, decminute)\n",
    "\n",
    "dectime = float(timestamp[12:13])+float(timestamp[14:16])/60 #something is screwy with this math\n",
    "\n",
    "print(timestamp, dectime)"
   ]
  },
  {
   "cell_type": "code",
   "execution_count": 25,
   "metadata": {
    "collapsed": false
   },
   "outputs": [
    {
     "name": "stdout",
     "output_type": "stream",
     "text": [
      "access token: 89Bb6LXYNypDSCbiuqvfdZ4e6Ksw6tcQ\n",
      "refresh token: bTQWwBl4MQvtXw4hhoOlk5rGc1oNP1LF\n"
     ]
    }
   ],
   "source": [
    "#test file write / read for tokens\n",
    "\n",
    "#Write tokens to file\n",
    "\n",
    "f=open(\"tokens.txt\",\"w+\")\n",
    "f.write(access_token)\n",
    "f.write(\",\")\n",
    "f.write(refresh_token)\n",
    "f.close\n",
    "\n",
    "access_token=\"none\"\n",
    "refresh_token=\"none\"\n",
    "\n",
    "f=open(\"tokens.txt\",\"r\")\n",
    "\n",
    "token_str = str(f.read())\n",
    "\n",
    "f.close\n",
    "\n",
    "token_list = token_str.split(\",\")\n",
    "\n",
    "access_token = token_list[0]\n",
    "refresh_token = token_list[1]\n",
    "\n",
    "print(\"access token:\", access_token)\n",
    "print(\"refresh token:\", refresh_token)"
   ]
  },
  {
   "cell_type": "code",
   "execution_count": null,
   "metadata": {
    "collapsed": true
   },
   "outputs": [],
   "source": []
  }
 ],
 "metadata": {
  "anaconda-cloud": {},
  "kernelspec": {
   "display_name": "Python [Root]",
   "language": "python",
   "name": "Python [Root]"
  },
  "language_info": {
   "codemirror_mode": {
    "name": "ipython",
    "version": 3
   },
   "file_extension": ".py",
   "mimetype": "text/x-python",
   "name": "python",
   "nbconvert_exporter": "python",
   "pygments_lexer": "ipython3",
   "version": "3.5.1"
  }
 },
 "nbformat": 4,
 "nbformat_minor": 0
}
