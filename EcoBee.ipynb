{
 "cells": [
  {
   "cell_type": "code",
   "execution_count": 1,
   "metadata": {
    "collapsed": true
   },
   "outputs": [],
   "source": [
    "import requests\n",
    "import json"
   ]
  },
  {
   "cell_type": "code",
   "execution_count": 8,
   "metadata": {
    "collapsed": false
   },
   "outputs": [
    {
     "name": "stdout",
     "output_type": "stream",
     "text": [
      "('Your PIN is: ', u'3gxe')\n"
     ]
    }
   ],
   "source": [
    "#Get EcoBee application PIN and tokens\n",
    "\n",
    "APP_KEY = 'API-KEY'\n",
    "SCOPE = 'smartWrite'\n",
    "\n",
    "auth_url = 'https://api.ecobee.com/authorize?'\n",
    "payload = {'response_type':'ecobeePin','client_id': APP_KEY,'scope' : SCOPE}\n",
    "\n",
    "r = requests.get(auth_url,payload)\n",
    "\n",
    "r_dict = json.loads(r.text)\n",
    "\n",
    "print('Your PIN is: ',r_dict['ecobeePin'])"
   ]
  },
  {
   "cell_type": "code",
   "execution_count": 9,
   "metadata": {
    "collapsed": false
   },
   "outputs": [
    {
     "name": "stdout",
     "output_type": "stream",
     "text": [
      "(u'uw90JUvQ23DdwPjbg1bXelxHuqUHkfdF', u'Bearer', u'uxzgzYVWN0ILEmg4goD3OkzrsazkwrRU')\n"
     ]
    },
    {
     "data": {
      "text/plain": [
       "<function close>"
      ]
     },
     "execution_count": 9,
     "metadata": {},
     "output_type": "execute_result"
    }
   ],
   "source": [
    "#Get original tokens after PIN validation\n",
    "\n",
    "import requests\n",
    "import json\n",
    "\n",
    "#POST https://api.ecobee.com/token?\n",
    "#        grant_type=ecobeePin&\n",
    "#        code=AUTHORIZATION_TOKEN&\n",
    "#        client_id=APP_KEY\n",
    "\n",
    "auth_code = r_dict['code']\n",
    "token_url = 'https://api.ecobee.com/token?'\n",
    "payload = {'grant_type':'ecobeePin','code': auth_code,'client_id': APP_KEY}\n",
    "\n",
    "r_tokens = requests.post(token_url,params=payload)\n",
    "\n",
    "r_tokens_dict = json.loads(r_tokens.text)\n",
    "\n",
    "#print(r_tokens_dict)\n",
    "\n",
    "access_token = r_tokens_dict['access_token']\n",
    "token_type = r_tokens_dict['token_type']\n",
    "refresh_token = r_tokens_dict['refresh_token']\n",
    "\n",
    "print(access_token, token_type, refresh_token)\n",
    "\n",
    "#Write tokens to file\n",
    "\n",
    "f=open(\"tokens.txt\",\"w+\")\n",
    "f.truncate()\n",
    "f.write(access_token)\n",
    "f.write(\",\")\n",
    "f.write(token_type)\n",
    "f.write(\",\")\n",
    "f.write(refresh_token)\n",
    "f.close"
   ]
  },
  {
   "cell_type": "code",
   "execution_count": 10,
   "metadata": {
    "collapsed": false
   },
   "outputs": [
    {
     "name": "stdout",
     "output_type": "stream",
     "text": [
      "{u'access_token': u'Ok8OQ0DdVikDmKbivokG7kpv7SBWUV0o', u'token_type': u'Bearer', u'expires_in': 3599, u'refresh_token': u'CsbNAdTkHM6EBQPBn70MxlASz8WkhnTK', u'scope': u'smartWrite'}\n",
      "200\n",
      "\n"
     ]
    }
   ],
   "source": [
    "#Manually exchange tokens\n",
    "\n",
    "token_url='https://api.ecobee.com/token?'\n",
    "payload = {'grant_type':'refresh_token','refresh_token': refresh_token,'client_id': APP_KEY}\n",
    "    \n",
    "r_refresh = requests.post(token_url,params=payload)\n",
    "    \n",
    "r_refresh_dict = json.loads(r_refresh.text)\n",
    "\n",
    "print(r_refresh_dict)\n",
    "    \n",
    "if r_refresh.status_code == requests.codes.ok:\n",
    "\n",
    "    token_type = r_refresh_dict['token_type']\n",
    "    access_token = r_refresh_dict['access_token']\n",
    "    refresh_token = r_refresh_dict['refresh_token']\n",
    "\n",
    "    auth = (token_type)+' '+(access_token)\n",
    "    \n",
    "    print(r_refresh.status_code)\n",
    "\n",
    "# write tokens to file\n",
    "    \n",
    "    f=open(\"tokens.txt\",\"w+\")\n",
    "    f.truncate()\n",
    "    f.write(access_token)\n",
    "    f.write(\",\")\n",
    "    f.write(token_type)\n",
    "    f.write(\",\")\n",
    "    f.write(refresh_token)\n",
    "\n",
    "# verify tokens are good\n",
    "\n",
    "    token_str = str(f.read())\n",
    "    f.close\n",
    "    \n",
    "    print(token_str)\n",
    "    \n",
    "#print(\"authentication error\")\n",
    "    "
   ]
  },
  {
   "cell_type": "code",
   "execution_count": 11,
   "metadata": {
    "collapsed": false
   },
   "outputs": [
    {
     "name": "stdout",
     "output_type": "stream",
     "text": [
      "Ok8OQ0DdVikDmKbivokG7kpv7SBWUV0o,Bearer,CsbNAdTkHM6EBQPBn70MxlASz8WkhnTK\n",
      "('Ok8OQ0DdVikDmKbivokG7kpv7SBWUV0o', 'Bearer', 'CsbNAdTkHM6EBQPBn70MxlASz8WkhnTK')\n"
     ]
    }
   ],
   "source": [
    "# Check contents of token file if needed\n",
    "\n",
    "f=open(\"tokens.txt\",\"r\")\n",
    "\n",
    "token_str = str(f.read())\n",
    "\n",
    "f.close\n",
    "\n",
    "print(token_str)\n",
    "\n",
    "token_list = token_str.split(\",\")\n",
    "\n",
    "access_token = token_list[0]\n",
    "token_type = token_list[1]\n",
    "refresh_token = token_list[2]\n",
    "\n",
    "print(access_token, token_type, refresh_token)"
   ]
  },
  {
   "cell_type": "code",
   "execution_count": null,
   "metadata": {
    "collapsed": false
   },
   "outputs": [],
   "source": [
    "#Main Program\n",
    "# Sometimes hangs and throws exceptions, need to sort this out\n",
    "# Separately loop and test Ecobee token exchange and switch operation\n",
    "# Need to fix and test logic across full range.\n",
    "\n",
    "# set up libraries\n",
    "\n",
    "import requests\n",
    "import json\n",
    "from time import sleep\n",
    "import datetime\n",
    "from pyHS100 import SmartPlug\n",
    "from pprint import pformat as pf\n",
    "\n",
    "#initialize plug states before loop\n",
    "\n",
    "office_plug_on = False \n",
    "mbed_plug_on = False \n",
    "orm_plug_on = False \n",
    "lrm_plug_on = False \n",
    "\n",
    "# Start log file\n",
    "\n",
    "l=open(\"log.txt\",\"a+\")\n",
    "\n",
    "# Start loop including time delay ...\n",
    "\n",
    "while True:\n",
    "\n",
    "# 1)  Read tokens from file\n",
    "\n",
    "    f=open(\"tokens.txt\",\"r\")\n",
    "\n",
    "    token_str = str(f.read())\n",
    "\n",
    "    f.close\n",
    "\n",
    "    token_list = token_str.split(\",\")\n",
    "\n",
    "    access_token = token_list[0]\n",
    "    token_type = token_list[1]\n",
    "    refresh_token = token_list[2]\n",
    "\n",
    "# 2) Submit old refresh token for valid access token and new refresh token\n",
    "\n",
    "    token_url='https://api.ecobee.com/token?'\n",
    "    payload = {'grant_type':'refresh_token','refresh_token': refresh_token,'client_id': APP_KEY}\n",
    "    \n",
    "    r_refresh = requests.post(token_url,params=payload)\n",
    "    \n",
    "    r_refresh_dict = json.loads(r_refresh.text)\n",
    "    \n",
    "    if r_refresh.status_code == requests.codes.ok:\n",
    "\n",
    "        token_type = r_refresh_dict['token_type']\n",
    "        access_token = r_refresh_dict['access_token']\n",
    "        refresh_token = r_refresh_dict['refresh_token']\n",
    "\n",
    "        auth = (token_type)+' '+(access_token)\n",
    "    \n",
    "#        print(r_refresh.status_code)\n",
    "\n",
    "    #print(auth)\n",
    "\n",
    "# 3) Write new tokens back to file\n",
    "\n",
    "    f=open(\"tokens.txt\",\"w+\")\n",
    "    f.truncate()\n",
    "    f.write(access_token)\n",
    "    f.write(\",\")\n",
    "    f.write(token_type)\n",
    "    f.write(\",\")\n",
    "    f.write(refresh_token)\n",
    "\n",
    "# 4)  Call EcoBee API to get data\n",
    "\n",
    "    thermostat_url = 'https://api.ecobee.com/1/thermostat?'\n",
    "    payload = {'json': ('{\"selection\":{\"selectionType\":\"registered\",\"includeSensors\":\"true\"}}')}\n",
    "    header = {'Content-Type': 'application/json;charset=UTF-8','Authorization': auth}\n",
    "\n",
    "    request = requests.get(thermostat_url,headers=header,params=payload)\n",
    "\n",
    "    thermostat_response = request.json()['thermostatList']\n",
    "\n",
    "#print(thermostat_response) #test\n",
    "\n",
    "# 5) Parse response into variables\n",
    "\n",
    "    tstat_string = str(thermostat_response)\n",
    "\n",
    "    tstat_list = tstat_string.split(\",\")\n",
    "\n",
    "    tstat_tuple = tuple(tstat_list)\n",
    "\n",
    "    tstat_name = tstat_tuple[26][12:-3]\n",
    "#print(tstat_name) #test\n",
    "\n",
    "    office_temp = float(tstat_tuple[16][13:-2])/10\n",
    "#print(office_temp) #test\n",
    "\n",
    "    mbed_temp = float(tstat_tuple[8][13:-2])/10\n",
    "#print(mbed_temp)\n",
    "\n",
    "# 5)  Decision logic and set booleans for switches\n",
    "\n",
    "#timestamp and time for logic\n",
    "\n",
    "    timestamp = '{:%Y-%m-%d %H:%M:%S}'.format(datetime.datetime.now())\n",
    "\n",
    "    dectime = float(timestamp[11:13])+float(timestamp[14:16])/60\n",
    "    \n",
    "# Setpoints and logic for smart plug state\n",
    "# Temp setpoints in F\n",
    "# Time setpoints in decimal hours, 24 hour time\n",
    "    \n",
    "    mbed_temp_upp = 67.0\n",
    "    mbed_temp_low = 66.0\n",
    "    mbed_on_from_time = 19.0\n",
    "    mbed_on_to_time = 8.0\n",
    "    \n",
    "#debug conditionals\n",
    "    \n",
    "#print('temp under lower bound:',tstat_temp <= temp_low)\n",
    "#print('time in bounds:',dectime >= on_from_time and dectime <= on_to_time)\n",
    "\n",
    "# --Need to figure out nested conditionals, it is evaluating each of them ...\n",
    "    \n",
    "    if (mbed_temp <= mbed_temp_low and (dectime >= mbed_on_from_time or dectime <= mbed_on_to_time)):\n",
    "    \n",
    "        mbed_plug_on = True\n",
    "    \n",
    "    elif mbed_temp >= mbed_temp_upp or dectime < mbed_on_from_time or dectime > mbed_on_to_time:\n",
    "    \n",
    "        mbed_plug_on = False\n",
    "   \n",
    "    else:\n",
    "    \n",
    "        mbed_plug_on = mbed_plug_on\n",
    "    \n",
    "    #End logic\n",
    "    \n",
    "    print(mbed_plug_on)\n",
    "    \n",
    "#print(timestamp, tstat_name, office_temp, 'Office plug is On? ',office_plug_on)\n",
    "\n",
    "# 6)  Call smart switch API(s) to set switch states\n",
    "\n",
    "    mbed_plug = SmartPlug(\"YOUR_IP_ADDRESS\")\n",
    "\n",
    "#    print(mbed_plug.state)\n",
    "\n",
    "    mbed_plug_status = mbed_plug.state\n",
    "\n",
    "    if mbed_plug_status == \"ON\" and mbed_plug_on == False:\n",
    "    \n",
    "        mbed_plug.state = \"OFF\"\n",
    "#        print(\"Current state: %s\" % mbed_plug.state)\n",
    "        mbed_plug_status = mbed_plug.state\n",
    "    \n",
    "    elif mbed_plug_status == \"OFF\" and mbed_plug_on == True:\n",
    "    \n",
    "        mbed_plug.state = \"ON\"\n",
    "#        print(\"Current state: %s\" % mbed_plug.state)\n",
    "        mbed_plug_status = mbed_plug.state\n",
    "    \n",
    "    else:\n",
    "\n",
    "#        print(\"Current state: %s\" % mbed_plug.state,\"no change\")\n",
    "\n",
    "        mbed_plug_status = mbed_plug_status\n",
    "\n",
    "# 7)  Write variables, states and responses to log file\n",
    "\n",
    "    mbed_temp_str = str(mbed_temp)\n",
    "    \n",
    "    l.write(timestamp)\n",
    "    l.write(\",\")\n",
    "    l.write(mbed_temp_str)\n",
    "    l.write(\",\")\n",
    "    l.write(mbed_plug_status)\n",
    "\n",
    "    print(timestamp,mbed_temp_str,mbed_plug_status)\n",
    "    \n",
    "    sleep(180)\n",
    "\n",
    "# 8) Very optional ... plot variables"
   ]
  },
  {
   "cell_type": "code",
   "execution_count": 137,
   "metadata": {
    "collapsed": false
   },
   "outputs": [
    {
     "name": "stdout",
     "output_type": "stream",
     "text": [
      "[{u'name': u'Home', u'lastModified': u'2017-09-23 20:55:59', u'brand': u'ecobee', u'remoteSensors': [{u'code': u'F5CK', u'name': u'M BED', u'inUse': True, u'capability': [{u'type': u'temperature', u'id': u'1', u'value': u'754'}, {u'type': u'occupancy', u'id': u'2', u'value': u'true'}], u'type': u'ecobee3_remote_sensor', u'id': u'rs:100'}, {u'capability': [{u'type': u'temperature', u'id': u'1', u'value': u'753'}, {u'type': u'humidity', u'id': u'2', u'value': u'36'}, {u'type': u'occupancy', u'id': u'3', u'value': u'true'}], u'inUse': True, u'type': u'thermostat', u'id': u'ei:0', u'name': u'Home'}], u'utcTime': u'2017-09-24 01:49:10', u'modelNumber': u'athenaSmart', u'isRegistered': True, u'thermostatRev': u'170923205559', u'identifier': u'313806613834', u'thermostatTime': u'2017-09-23 18:49:10', u'features': u'HomeKit'}]\n"
     ]
    }
   ],
   "source": [
    "# Test 4) calling the API for data\n",
    "\n",
    "thermostat_url = 'https://api.ecobee.com/1/thermostat?'\n",
    "payload = {'json': ('{\"selection\":{\"selectionType\":\"registered\",\"includeSensors\":\"true\"}}')}\n",
    "header = {'Content-Type': 'application/json;charset=UTF-8','Authorization': auth}\n",
    "\n",
    "\n",
    "request = requests.get(thermostat_url,headers=header,params=payload)\n",
    "\n",
    "thermostat_response = request.json()['thermostatList']\n",
    "\n",
    "print(thermostat_response)"
   ]
  },
  {
   "cell_type": "code",
   "execution_count": 56,
   "metadata": {
    "collapsed": false
   },
   "outputs": [
    {
     "name": "stdout",
     "output_type": "stream",
     "text": [
      "Home\n",
      "78.4\n",
      "76.0\n"
     ]
    }
   ],
   "source": [
    "# Test 5) Parsing data\n",
    "\n",
    "tstat_string = str(thermostat_response)\n",
    "\n",
    "tstat_list = tstat_string.split(\",\")\n",
    "\n",
    "tstat_tuple = tuple(tstat_list)\n",
    "\n",
    "#print(tstat_tuple)\n",
    "\n",
    "#i = 0\n",
    "\n",
    "#while i <= 33:\n",
    "#\n",
    "#    print(i, tstat_tuple[i])\n",
    "#    i = i+1\n",
    "#\n",
    "# get the values from the tuple\n",
    "\n",
    "tstat_name = tstat_tuple[26][12:-3]\n",
    "print(tstat_name)\n",
    "office_temp = float(tstat_tuple[16][13:-2])/10\n",
    "print(office_temp)\n",
    "mbed_temp = float(tstat_tuple[8][13:-2])/10\n",
    "print(mbed_temp)"
   ]
  },
  {
   "cell_type": "code",
   "execution_count": 75,
   "metadata": {
    "collapsed": false
   },
   "outputs": [
    {
     "name": "stdout",
     "output_type": "stream",
     "text": [
      "('2017-09-23 15:57:29', 'Home', 78.2, 'Office plug is On? ', False)\n"
     ]
    }
   ],
   "source": [
    "# Test 6) Logic\n",
    "\n",
    "timestamp = '{:%Y-%m-%d %H:%M:%S}'.format(datetime.datetime.now())\n",
    "\n",
    "dectime = float(timestamp[11:13])+float(timestamp[14:16])/60\n",
    "    \n",
    "# Setpoints and logic for smart plug state\n",
    "# Temp setpoints in F\n",
    "# Time setpoints in decimal hours, 24 hour time\n",
    "    \n",
    "office_temp_upp = 68.0\n",
    "office_temp_low = 65.0\n",
    "office_on_from_time = 20.5\n",
    "office_on_to_time = 8.5\n",
    "    \n",
    "#debug conditionals\n",
    "    \n",
    "#print('temp under lower bound:',tstat_temp <= temp_low)\n",
    "#print('time in bounds:',dectime >= on_from_time and dectime <= on_to_time)\n",
    "    \n",
    "if office_temp <= office_temp_low and dectime >= office_on_from_time and dectime <= office_on_to_time:\n",
    "    office_plug_on = True\n",
    "    office_plug_state = 1\n",
    "elif office_temp >= office_temp_upp or dectime < office_on_from_time or dectime > office_on_to_time:\n",
    "    office_plug_on = False\n",
    "    office_plug_state = 2\n",
    "else:\n",
    "    office_plug_on = office_plug_on\n",
    "    office_plugstate = 3\n",
    "    \n",
    "    #End logic\n",
    "    \n",
    "print(timestamp, tstat_name, office_temp, 'Office plug is On? ',office_plug_on)"
   ]
  },
  {
   "cell_type": "code",
   "execution_count": 110,
   "metadata": {
    "collapsed": false
   },
   "outputs": [
    {
     "name": "stdout",
     "output_type": "stream",
     "text": [
      "Switch found! bedroom\n"
     ]
    }
   ],
   "source": [
    "# Test 7) Wemo (not completed, using TC-Link instead)\n",
    "\n",
    "from ouimeaux.environment import Environment\n",
    "\n",
    "def on_switch(switch):\n",
    "    print \"Switch found!\", switch.name\n",
    "\n",
    "def on_motion(motion):\n",
    "    print \"Motion found!\", motion.name\n",
    "\n",
    "env = Environment(on_switch, on_motion)\n",
    "\n",
    "env.start()\n",
    "env.discover(seconds=3)"
   ]
  },
  {
   "cell_type": "code",
   "execution_count": 203,
   "metadata": {
    "collapsed": false
   },
   "outputs": [
    {
     "name": "stdout",
     "output_type": "stream",
     "text": [
      "OFF\n"
     ]
    }
   ],
   "source": [
    "# Test 7) tp-link!\n",
    "\n",
    "from pyHS100 import SmartPlug\n",
    "from pprint import pformat as pf\n",
    "\n",
    "plug = SmartPlug(\"YOUR_IP_ADDRESS\")\n",
    "\n",
    "# Initial conditions for test only\n",
    "\n",
    "plug_on = False\n",
    "\n",
    "plug_status = plug.state\n",
    "\n",
    "#  Logic\n",
    "\n",
    "if plug_status == \"ON\" and plug_on == False:\n",
    "    \n",
    "    plug.state = \"OFF\"\n",
    "    plug_status = plug.state\n",
    "    \n",
    "elif plug_status == \"OFF\" and plug_on == True:\n",
    "    \n",
    "    plug.state = \"ON\"\n",
    "    plug_status = plug.state\n",
    "    \n",
    "else:\n",
    "\n",
    "    plug_status = plug.state\n",
    "    \n",
    "print(plug_status)\n",
    "\n"
   ]
  },
  {
   "cell_type": "code",
   "execution_count": 154,
   "metadata": {
    "collapsed": false
   },
   "outputs": [
    {
     "name": "stdout",
     "output_type": "stream",
     "text": [
      "('2017-09-23 18:55:36', '10.0', u'OFF')\n",
      "('2017-09-23 18:55:36', '10.5', u'OFF')\n"
     ]
    },
    {
     "ename": "SmartPlugException",
     "evalue": "",
     "output_type": "error",
     "traceback": [
      "\u001b[0;31m---------------------------------------------------------------------------\u001b[0m",
      "\u001b[0;31mSmartPlugException\u001b[0m                        Traceback (most recent call last)",
      "\u001b[0;32m__main__.py\u001b[0m in \u001b[0;36m<module>\u001b[0;34m()\u001b[0m\n\u001b[1;32m     20\u001b[0m     \u001b[0mmbed_temp\u001b[0m \u001b[0;34m=\u001b[0m \u001b[0mmbed_temp\u001b[0m\u001b[0;34m+\u001b[0m\u001b[0;36m0.5\u001b[0m\u001b[0;34m\u001b[0m\u001b[0m\n\u001b[1;32m     21\u001b[0m \u001b[0;34m\u001b[0m\u001b[0m\n\u001b[0;32m---> 22\u001b[0;31m     \u001b[0;32mprint\u001b[0m\u001b[0;34m(\u001b[0m\u001b[0mtimestamp\u001b[0m\u001b[0;34m,\u001b[0m\u001b[0mmbed_temp_str\u001b[0m\u001b[0;34m,\u001b[0m\u001b[0mmbed_plug\u001b[0m\u001b[0;34m.\u001b[0m\u001b[0mstate\u001b[0m\u001b[0;34m)\u001b[0m\u001b[0;34m\u001b[0m\u001b[0m\n\u001b[0m\u001b[1;32m     23\u001b[0m \u001b[0;34m\u001b[0m\u001b[0m\n\u001b[1;32m     24\u001b[0m \u001b[0;34m\u001b[0m\u001b[0m\n",
      "\u001b[0;32m/Users/clenox/anaconda/lib/python2.7/site-packages/pyHS100/pyHS100.pyc\u001b[0m in \u001b[0;36mstate\u001b[0;34m(self)\u001b[0m\n\u001b[1;32m    666\u001b[0m         \u001b[0;34m:\u001b[0m\u001b[0mrtype\u001b[0m\u001b[0;34m:\u001b[0m \u001b[0mstr\u001b[0m\u001b[0;34m\u001b[0m\u001b[0m\n\u001b[1;32m    667\u001b[0m         \"\"\"\n\u001b[0;32m--> 668\u001b[0;31m         \u001b[0mrelay_state\u001b[0m \u001b[0;34m=\u001b[0m \u001b[0mself\u001b[0m\u001b[0;34m.\u001b[0m\u001b[0msys_info\u001b[0m\u001b[0;34m[\u001b[0m\u001b[0;34m'relay_state'\u001b[0m\u001b[0;34m]\u001b[0m\u001b[0;34m\u001b[0m\u001b[0m\n\u001b[0m\u001b[1;32m    669\u001b[0m \u001b[0;34m\u001b[0m\u001b[0m\n\u001b[1;32m    670\u001b[0m         \u001b[0;32mif\u001b[0m \u001b[0mrelay_state\u001b[0m \u001b[0;34m==\u001b[0m \u001b[0;36m0\u001b[0m\u001b[0;34m:\u001b[0m\u001b[0;34m\u001b[0m\u001b[0m\n",
      "\u001b[0;32m/Users/clenox/anaconda/lib/python2.7/site-packages/pyHS100/pyHS100.pyc\u001b[0m in \u001b[0;36msys_info\u001b[0;34m(self)\u001b[0m\n\u001b[1;32m     89\u001b[0m     \u001b[0;32mdef\u001b[0m \u001b[0msys_info\u001b[0m\u001b[0;34m(\u001b[0m\u001b[0mself\u001b[0m\u001b[0;34m)\u001b[0m\u001b[0;34m:\u001b[0m\u001b[0;34m\u001b[0m\u001b[0m\n\u001b[1;32m     90\u001b[0m         \u001b[0;31m#  TODO use volyptuous\u001b[0m\u001b[0;34m\u001b[0m\u001b[0;34m\u001b[0m\u001b[0m\n\u001b[0;32m---> 91\u001b[0;31m         \u001b[0;32mreturn\u001b[0m \u001b[0mself\u001b[0m\u001b[0;34m.\u001b[0m\u001b[0mget_sysinfo\u001b[0m\u001b[0;34m(\u001b[0m\u001b[0;34m)\u001b[0m\u001b[0;34m\u001b[0m\u001b[0m\n\u001b[0m\u001b[1;32m     92\u001b[0m \u001b[0;34m\u001b[0m\u001b[0m\n\u001b[1;32m     93\u001b[0m     \u001b[0;32mdef\u001b[0m \u001b[0mget_sysinfo\u001b[0m\u001b[0;34m(\u001b[0m\u001b[0mself\u001b[0m\u001b[0;34m)\u001b[0m\u001b[0;34m:\u001b[0m\u001b[0;34m\u001b[0m\u001b[0m\n",
      "\u001b[0;32m/Users/clenox/anaconda/lib/python2.7/site-packages/pyHS100/pyHS100.pyc\u001b[0m in \u001b[0;36mget_sysinfo\u001b[0;34m(self)\u001b[0m\n\u001b[1;32m     99\u001b[0m         \u001b[0;34m:\u001b[0m\u001b[0mraises\u001b[0m \u001b[0mSmartPlugException\u001b[0m\u001b[0;34m:\u001b[0m \u001b[0mon\u001b[0m \u001b[0merror\u001b[0m\u001b[0;34m\u001b[0m\u001b[0m\n\u001b[1;32m    100\u001b[0m         \"\"\"\n\u001b[0;32m--> 101\u001b[0;31m         \u001b[0;32mreturn\u001b[0m \u001b[0mself\u001b[0m\u001b[0;34m.\u001b[0m\u001b[0m_query_helper\u001b[0m\u001b[0;34m(\u001b[0m\u001b[0;34m\"system\"\u001b[0m\u001b[0;34m,\u001b[0m \u001b[0;34m\"get_sysinfo\"\u001b[0m\u001b[0;34m)\u001b[0m\u001b[0;34m\u001b[0m\u001b[0m\n\u001b[0m\u001b[1;32m    102\u001b[0m \u001b[0;34m\u001b[0m\u001b[0m\n\u001b[1;32m    103\u001b[0m     \u001b[0;32mdef\u001b[0m \u001b[0midentify\u001b[0m\u001b[0;34m(\u001b[0m\u001b[0mself\u001b[0m\u001b[0;34m)\u001b[0m\u001b[0;34m:\u001b[0m\u001b[0;34m\u001b[0m\u001b[0m\n",
      "\u001b[0;32m/Users/clenox/anaconda/lib/python2.7/site-packages/pyHS100/pyHS100.pyc\u001b[0m in \u001b[0;36m_query_helper\u001b[0;34m(self, target, cmd, arg)\u001b[0m\n\u001b[1;32m     72\u001b[0m             )\n\u001b[1;32m     73\u001b[0m         \u001b[0;32mexcept\u001b[0m \u001b[0mException\u001b[0m \u001b[0;32mas\u001b[0m \u001b[0mex\u001b[0m\u001b[0;34m:\u001b[0m\u001b[0;34m\u001b[0m\u001b[0m\n\u001b[0;32m---> 74\u001b[0;31m             \u001b[0mraise_from\u001b[0m\u001b[0;34m(\u001b[0m\u001b[0mSmartPlugException\u001b[0m\u001b[0;34m(\u001b[0m\u001b[0;34m)\u001b[0m\u001b[0;34m,\u001b[0m \u001b[0mex\u001b[0m\u001b[0;34m)\u001b[0m\u001b[0;34m\u001b[0m\u001b[0m\n\u001b[0m\u001b[1;32m     75\u001b[0m \u001b[0;34m\u001b[0m\u001b[0m\n\u001b[1;32m     76\u001b[0m         \u001b[0;32mif\u001b[0m \u001b[0mtarget\u001b[0m \u001b[0;32mnot\u001b[0m \u001b[0;32min\u001b[0m \u001b[0mresponse\u001b[0m\u001b[0;34m:\u001b[0m\u001b[0;34m\u001b[0m\u001b[0m\n",
      "\u001b[0;32m/Users/clenox/anaconda/lib/python2.7/site-packages/future/utils/__init__.pyc\u001b[0m in \u001b[0;36mraise_from\u001b[0;34m(exc, cause)\u001b[0m\n\u001b[1;32m    452\u001b[0m             \u001b[0;32mraise\u001b[0m \u001b[0mTypeError\u001b[0m\u001b[0;34m(\u001b[0m\u001b[0;34m\"exception causes must derive from BaseException\"\u001b[0m\u001b[0;34m)\u001b[0m\u001b[0;34m\u001b[0m\u001b[0m\n\u001b[1;32m    453\u001b[0m         \u001b[0me\u001b[0m\u001b[0;34m.\u001b[0m\u001b[0m__context__\u001b[0m \u001b[0;34m=\u001b[0m \u001b[0msys\u001b[0m\u001b[0;34m.\u001b[0m\u001b[0mexc_info\u001b[0m\u001b[0;34m(\u001b[0m\u001b[0;34m)\u001b[0m\u001b[0;34m[\u001b[0m\u001b[0;36m1\u001b[0m\u001b[0;34m]\u001b[0m\u001b[0;34m\u001b[0m\u001b[0m\n\u001b[0;32m--> 454\u001b[0;31m         \u001b[0;32mraise\u001b[0m \u001b[0me\u001b[0m\u001b[0;34m\u001b[0m\u001b[0m\n\u001b[0m\u001b[1;32m    455\u001b[0m \u001b[0;34m\u001b[0m\u001b[0m\n\u001b[1;32m    456\u001b[0m     exec('''\n",
      "\u001b[0;31mSmartPlugException\u001b[0m: "
     ]
    }
   ],
   "source": [
    "# Test 8) Log File\n",
    "\n",
    "l=open(\"log.txt\",\"a+\")\n",
    "i=0\n",
    "mbed_temp = 10.0\n",
    "\n",
    "\n",
    "while i <= 3:\n",
    "\n",
    "    mbed_temp_str = str(mbed_temp)\n",
    "    \n",
    "    l.write(timestamp)\n",
    "    l.write(\",\")\n",
    "    l.write(mbed_temp_str)\n",
    "    l.write(\",\")\n",
    "    l.write(mbed_plug.state)\n",
    "    sleep(10)\n",
    "    \n",
    "    i= i+1\n",
    "    mbed_temp = mbed_temp+0.5\n",
    "    \n",
    "    print(timestamp,mbed_temp_str,mbed_plug.state)\n",
    "    \n",
    "\n",
    "print(\"done\")\n"
   ]
  },
  {
   "cell_type": "code",
   "execution_count": 196,
   "metadata": {
    "collapsed": false
   },
   "outputs": [
    {
     "name": "stdout",
     "output_type": "stream",
     "text": [
      "[16/Sep/2017 09:59:04] ERROR - EcobeeAuthorizationException raised:\n",
      "Traceback (most recent call last):\n",
      "  File \"/Users/lenoxpod/anaconda/lib/python3.5/site-packages/pyecobee/service.py\", line 155, in __process_http_response\n",
      "    error_response.error_uri)\n",
      "pyecobee.exceptions.EcobeeAuthorizationException: ecobee authorization error encountered for URL => https://api.ecobee.com/token?grant_type=refresh_token&client_id=tbDjHwLb4cDaKYs4OAat3oImu37e9niu\n",
      "HTTP error code => 400\n",
      "Error type => invalid_request\n",
      "Error description => The request is malformed. Check parameters.\n",
      "Error URI => https://tools.ietf.org/html/rfc6749#section-5.2\n"
     ]
    },
    {
     "ename": "EcobeeAuthorizationException",
     "evalue": "ecobee authorization error encountered for URL => https://api.ecobee.com/token?grant_type=refresh_token&client_id=tbDjHwLb4cDaKYs4OAat3oImu37e9niu\nHTTP error code => 400\nError type => invalid_request\nError description => The request is malformed. Check parameters.\nError URI => https://tools.ietf.org/html/rfc6749#section-5.2",
     "output_type": "error",
     "traceback": [
      "\u001b[0;31m---------------------------------------------------------------------------\u001b[0m",
      "\u001b[0;31mEcobeeAuthorizationException\u001b[0m              Traceback (most recent call last)",
      "\u001b[0;32m<ipython-input-196-477faf9e3625>\u001b[0m in \u001b[0;36m<module>\u001b[0;34m()\u001b[0m\n\u001b[1;32m      1\u001b[0m \u001b[0;32mimport\u001b[0m \u001b[0mpyecobee\u001b[0m\u001b[0;34m\u001b[0m\u001b[0m\n\u001b[1;32m      2\u001b[0m \u001b[0;34m\u001b[0m\u001b[0m\n\u001b[0;32m----> 3\u001b[0;31m \u001b[0mtoken_response\u001b[0m \u001b[0;34m=\u001b[0m \u001b[0mecobee_service\u001b[0m\u001b[0;34m.\u001b[0m\u001b[0mrefresh_tokens\u001b[0m\u001b[0;34m(\u001b[0m\u001b[0;34m)\u001b[0m\u001b[0;34m\u001b[0m\u001b[0m\n\u001b[0m\u001b[1;32m      4\u001b[0m \u001b[0;34m\u001b[0m\u001b[0m\n\u001b[1;32m      5\u001b[0m thermostat_summary_response = ecobee_service.request_thermostats_summary(selection=Selection(\n",
      "\u001b[0;32m/Users/lenoxpod/anaconda/lib/python3.5/site-packages/pyecobee/service.py\u001b[0m in \u001b[0;36mrefresh_tokens\u001b[0;34m(self, grant_type, timeout)\u001b[0m\n\u001b[1;32m    299\u001b[0m                                                              'grant_type': grant_type},\n\u001b[1;32m    300\u001b[0m                                                      timeout=timeout)\n\u001b[0;32m--> 301\u001b[0;31m         \u001b[0mtokens_response\u001b[0m \u001b[0;34m=\u001b[0m \u001b[0mEcobeeService\u001b[0m\u001b[0;34m.\u001b[0m\u001b[0m__process_http_response\u001b[0m\u001b[0;34m(\u001b[0m\u001b[0mresponse\u001b[0m\u001b[0;34m,\u001b[0m \u001b[0mEcobeeTokensResponse\u001b[0m\u001b[0;34m)\u001b[0m\u001b[0;34m\u001b[0m\u001b[0m\n\u001b[0m\u001b[1;32m    302\u001b[0m         \u001b[0mself\u001b[0m\u001b[0;34m.\u001b[0m\u001b[0m_access_token\u001b[0m \u001b[0;34m=\u001b[0m \u001b[0mtokens_response\u001b[0m\u001b[0;34m.\u001b[0m\u001b[0maccess_token\u001b[0m\u001b[0;34m\u001b[0m\u001b[0m\n\u001b[1;32m    303\u001b[0m         \u001b[0mself\u001b[0m\u001b[0;34m.\u001b[0m\u001b[0m_access_token_expires_on\u001b[0m \u001b[0;34m=\u001b[0m \u001b[0mnow_utc\u001b[0m \u001b[0;34m+\u001b[0m \u001b[0mtimedelta\u001b[0m\u001b[0;34m(\u001b[0m\u001b[0mseconds\u001b[0m\u001b[0;34m=\u001b[0m\u001b[0mtokens_response\u001b[0m\u001b[0;34m.\u001b[0m\u001b[0mexpires_in\u001b[0m\u001b[0;34m)\u001b[0m\u001b[0;34m\u001b[0m\u001b[0m\n",
      "\u001b[0;32m/Users/lenoxpod/anaconda/lib/python3.5/site-packages/pyecobee/service.py\u001b[0m in \u001b[0;36m__process_http_response\u001b[0;34m(response, response_class)\u001b[0m\n\u001b[1;32m    153\u001b[0m                         \u001b[0merror_response\u001b[0m\u001b[0;34m.\u001b[0m\u001b[0merror\u001b[0m\u001b[0;34m,\u001b[0m\u001b[0;34m\u001b[0m\u001b[0m\n\u001b[1;32m    154\u001b[0m                         \u001b[0merror_response\u001b[0m\u001b[0;34m.\u001b[0m\u001b[0merror_description\u001b[0m\u001b[0;34m,\u001b[0m\u001b[0;34m\u001b[0m\u001b[0m\n\u001b[0;32m--> 155\u001b[0;31m                         error_response.error_uri)\n\u001b[0m\u001b[1;32m    156\u001b[0m                 \u001b[0;32melif\u001b[0m \u001b[0;34m'status'\u001b[0m \u001b[0;32min\u001b[0m \u001b[0mresponse\u001b[0m\u001b[0;34m.\u001b[0m\u001b[0mjson\u001b[0m\u001b[0;34m(\u001b[0m\u001b[0;34m)\u001b[0m\u001b[0;34m:\u001b[0m\u001b[0;34m\u001b[0m\u001b[0m\n\u001b[1;32m    157\u001b[0m                     status = utilities.dictionary_to_object({'Status': response.json()['status']},\n",
      "\u001b[0;31mEcobeeAuthorizationException\u001b[0m: ecobee authorization error encountered for URL => https://api.ecobee.com/token?grant_type=refresh_token&client_id=tbDjHwLb4cDaKYs4OAat3oImu37e9niu\nHTTP error code => 400\nError type => invalid_request\nError description => The request is malformed. Check parameters.\nError URI => https://tools.ietf.org/html/rfc6749#section-5.2"
     ]
    }
   ],
   "source": [
    "import pyecobee\n",
    "\n",
    "token_response = ecobee_service.refresh_tokens()\n",
    "\n",
    "thermostat_summary_response = ecobee_service.request_thermostats_summary(selection=Selection(\n",
    "        selection_type=SelectionType.REGISTERED.value,\n",
    "        selection_match='',\n",
    "        include_equipment_status=True))\n",
    "\n",
    "print(thermostat_summary_response)\n"
   ]
  },
  {
   "cell_type": "code",
   "execution_count": 192,
   "metadata": {
    "collapsed": false
   },
   "outputs": [
    {
     "name": "stdout",
     "output_type": "stream",
     "text": [
      "[16/Sep/2017 09:53:51] ERROR - EcobeeAuthorizationException raised:\n",
      "Traceback (most recent call last):\n",
      "  File \"/Users/lenoxpod/anaconda/lib/python3.5/site-packages/pyecobee/service.py\", line 155, in __process_http_response\n",
      "    error_response.error_uri)\n",
      "pyecobee.exceptions.EcobeeAuthorizationException: ecobee authorization error encountered for URL => https://api.ecobee.com/token?grant_type=refresh_token&client_id=tbDjHwLb4cDaKYs4OAat3oImu37e9niu\n",
      "HTTP error code => 400\n",
      "Error type => invalid_request\n",
      "Error description => The request is malformed. Check parameters.\n",
      "Error URI => https://tools.ietf.org/html/rfc6749#section-5.2\n"
     ]
    },
    {
     "ename": "EcobeeAuthorizationException",
     "evalue": "ecobee authorization error encountered for URL => https://api.ecobee.com/token?grant_type=refresh_token&client_id=tbDjHwLb4cDaKYs4OAat3oImu37e9niu\nHTTP error code => 400\nError type => invalid_request\nError description => The request is malformed. Check parameters.\nError URI => https://tools.ietf.org/html/rfc6749#section-5.2",
     "output_type": "error",
     "traceback": [
      "\u001b[0;31m---------------------------------------------------------------------------\u001b[0m",
      "\u001b[0;31mEcobeeAuthorizationException\u001b[0m              Traceback (most recent call last)",
      "\u001b[0;32m<ipython-input-192-b39271d12b18>\u001b[0m in \u001b[0;36m<module>\u001b[0;34m()\u001b[0m\n\u001b[0;32m----> 1\u001b[0;31m \u001b[0mtoken_response\u001b[0m \u001b[0;34m=\u001b[0m \u001b[0mecobee_service\u001b[0m\u001b[0;34m.\u001b[0m\u001b[0mrefresh_tokens\u001b[0m\u001b[0;34m(\u001b[0m\u001b[0;34m)\u001b[0m\u001b[0;34m\u001b[0m\u001b[0m\n\u001b[0m\u001b[1;32m      2\u001b[0m \u001b[0mprint\u001b[0m\u001b[0;34m(\u001b[0m\u001b[0mtoken_response\u001b[0m\u001b[0;34m)\u001b[0m\u001b[0;34m\u001b[0m\u001b[0m\n",
      "\u001b[0;32m/Users/lenoxpod/anaconda/lib/python3.5/site-packages/pyecobee/service.py\u001b[0m in \u001b[0;36mrefresh_tokens\u001b[0;34m(self, grant_type, timeout)\u001b[0m\n\u001b[1;32m    299\u001b[0m                                                              'grant_type': grant_type},\n\u001b[1;32m    300\u001b[0m                                                      timeout=timeout)\n\u001b[0;32m--> 301\u001b[0;31m         \u001b[0mtokens_response\u001b[0m \u001b[0;34m=\u001b[0m \u001b[0mEcobeeService\u001b[0m\u001b[0;34m.\u001b[0m\u001b[0m__process_http_response\u001b[0m\u001b[0;34m(\u001b[0m\u001b[0mresponse\u001b[0m\u001b[0;34m,\u001b[0m \u001b[0mEcobeeTokensResponse\u001b[0m\u001b[0;34m)\u001b[0m\u001b[0;34m\u001b[0m\u001b[0m\n\u001b[0m\u001b[1;32m    302\u001b[0m         \u001b[0mself\u001b[0m\u001b[0;34m.\u001b[0m\u001b[0m_access_token\u001b[0m \u001b[0;34m=\u001b[0m \u001b[0mtokens_response\u001b[0m\u001b[0;34m.\u001b[0m\u001b[0maccess_token\u001b[0m\u001b[0;34m\u001b[0m\u001b[0m\n\u001b[1;32m    303\u001b[0m         \u001b[0mself\u001b[0m\u001b[0;34m.\u001b[0m\u001b[0m_access_token_expires_on\u001b[0m \u001b[0;34m=\u001b[0m \u001b[0mnow_utc\u001b[0m \u001b[0;34m+\u001b[0m \u001b[0mtimedelta\u001b[0m\u001b[0;34m(\u001b[0m\u001b[0mseconds\u001b[0m\u001b[0;34m=\u001b[0m\u001b[0mtokens_response\u001b[0m\u001b[0;34m.\u001b[0m\u001b[0mexpires_in\u001b[0m\u001b[0;34m)\u001b[0m\u001b[0;34m\u001b[0m\u001b[0m\n",
      "\u001b[0;32m/Users/lenoxpod/anaconda/lib/python3.5/site-packages/pyecobee/service.py\u001b[0m in \u001b[0;36m__process_http_response\u001b[0;34m(response, response_class)\u001b[0m\n\u001b[1;32m    153\u001b[0m                         \u001b[0merror_response\u001b[0m\u001b[0;34m.\u001b[0m\u001b[0merror\u001b[0m\u001b[0;34m,\u001b[0m\u001b[0;34m\u001b[0m\u001b[0m\n\u001b[1;32m    154\u001b[0m                         \u001b[0merror_response\u001b[0m\u001b[0;34m.\u001b[0m\u001b[0merror_description\u001b[0m\u001b[0;34m,\u001b[0m\u001b[0;34m\u001b[0m\u001b[0m\n\u001b[0;32m--> 155\u001b[0;31m                         error_response.error_uri)\n\u001b[0m\u001b[1;32m    156\u001b[0m                 \u001b[0;32melif\u001b[0m \u001b[0;34m'status'\u001b[0m \u001b[0;32min\u001b[0m \u001b[0mresponse\u001b[0m\u001b[0;34m.\u001b[0m\u001b[0mjson\u001b[0m\u001b[0;34m(\u001b[0m\u001b[0;34m)\u001b[0m\u001b[0;34m:\u001b[0m\u001b[0;34m\u001b[0m\u001b[0m\n\u001b[1;32m    157\u001b[0m                     status = utilities.dictionary_to_object({'Status': response.json()['status']},\n",
      "\u001b[0;31mEcobeeAuthorizationException\u001b[0m: ecobee authorization error encountered for URL => https://api.ecobee.com/token?grant_type=refresh_token&client_id=tbDjHwLb4cDaKYs4OAat3oImu37e9niu\nHTTP error code => 400\nError type => invalid_request\nError description => The request is malformed. Check parameters.\nError URI => https://tools.ietf.org/html/rfc6749#section-5.2"
     ]
    }
   ],
   "source": [
    "token_response = ecobee_service.refresh_tokens()\n",
    "print(token_response)"
   ]
  },
  {
   "cell_type": "code",
   "execution_count": 209,
   "metadata": {
    "collapsed": false
   },
   "outputs": [
    {
     "ename": "TypeError",
     "evalue": "expected a string or other character buffer object",
     "output_type": "error",
     "traceback": [
      "\u001b[0;31m---------------------------------------------------------------------------\u001b[0m",
      "\u001b[0;31mTypeError\u001b[0m                                 Traceback (most recent call last)",
      "\u001b[0;32m__main__.py\u001b[0m in \u001b[0;36m<module>\u001b[0;34m()\u001b[0m\n\u001b[1;32m     15\u001b[0m     \u001b[0mi\u001b[0m \u001b[0;34m=\u001b[0m \u001b[0mi\u001b[0m\u001b[0;34m+\u001b[0m\u001b[0;36m1\u001b[0m\u001b[0;34m\u001b[0m\u001b[0m\n\u001b[1;32m     16\u001b[0m \u001b[0;34m\u001b[0m\u001b[0m\n\u001b[0;32m---> 17\u001b[0;31m \u001b[0mt\u001b[0m\u001b[0;34m.\u001b[0m\u001b[0mwrite\u001b[0m\u001b[0;34m(\u001b[0m\u001b[0mtestlist\u001b[0m\u001b[0;34m)\u001b[0m\u001b[0;34m\u001b[0m\u001b[0m\n\u001b[0m\u001b[1;32m     18\u001b[0m \u001b[0mt\u001b[0m\u001b[0;34m.\u001b[0m\u001b[0mclose\u001b[0m\u001b[0;34m\u001b[0m\u001b[0m\n\u001b[1;32m     19\u001b[0m \u001b[0;34m\u001b[0m\u001b[0m\n",
      "\u001b[0;31mTypeError\u001b[0m: expected a string or other character buffer object"
     ]
    }
   ],
   "source": [
    "# test file writing\n",
    "\n",
    "t = open(\"test\",\"a+\")\n",
    "\n",
    "testlist = []\n",
    "\n",
    "i=0\n",
    "\n",
    "while i <= 3:\n",
    "    \n",
    "    eye = str(i)\n",
    "    \n",
    "    testlist.append(eye)\n",
    "    \n",
    "    i = i+1\n",
    "    \n",
    "t.write(testlist)\n",
    "t.close\n",
    "    \n",
    "end\n"
   ]
  },
  {
   "cell_type": "code",
   "execution_count": 182,
   "metadata": {
    "collapsed": false
   },
   "outputs": [
    {
     "ename": "AttributeError",
     "evalue": "'ConnectTimeout' object has no attribute 'message'",
     "output_type": "error",
     "traceback": [
      "\u001b[0;31m---------------------------------------------------------------------------\u001b[0m",
      "\u001b[0;31mtimeout\u001b[0m                                   Traceback (most recent call last)",
      "\u001b[0;32m/Users/lenoxpod/anaconda/lib/python3.5/site-packages/urllib3/connection.py\u001b[0m in \u001b[0;36m_new_conn\u001b[0;34m(self)\u001b[0m\n\u001b[1;32m    140\u001b[0m             conn = connection.create_connection(\n\u001b[0;32m--> 141\u001b[0;31m                 (self.host, self.port), self.timeout, **extra_kw)\n\u001b[0m\u001b[1;32m    142\u001b[0m \u001b[0;34m\u001b[0m\u001b[0m\n",
      "\u001b[0;32m/Users/lenoxpod/anaconda/lib/python3.5/site-packages/urllib3/util/connection.py\u001b[0m in \u001b[0;36mcreate_connection\u001b[0;34m(address, timeout, source_address, socket_options)\u001b[0m\n\u001b[1;32m     82\u001b[0m     \u001b[0;32mif\u001b[0m \u001b[0merr\u001b[0m \u001b[0;32mis\u001b[0m \u001b[0;32mnot\u001b[0m \u001b[0;32mNone\u001b[0m\u001b[0;34m:\u001b[0m\u001b[0;34m\u001b[0m\u001b[0m\n\u001b[0;32m---> 83\u001b[0;31m         \u001b[0;32mraise\u001b[0m \u001b[0merr\u001b[0m\u001b[0;34m\u001b[0m\u001b[0m\n\u001b[0m\u001b[1;32m     84\u001b[0m \u001b[0;34m\u001b[0m\u001b[0m\n",
      "\u001b[0;32m/Users/lenoxpod/anaconda/lib/python3.5/site-packages/urllib3/util/connection.py\u001b[0m in \u001b[0;36mcreate_connection\u001b[0;34m(address, timeout, source_address, socket_options)\u001b[0m\n\u001b[1;32m     72\u001b[0m                 \u001b[0msock\u001b[0m\u001b[0;34m.\u001b[0m\u001b[0mbind\u001b[0m\u001b[0;34m(\u001b[0m\u001b[0msource_address\u001b[0m\u001b[0;34m)\u001b[0m\u001b[0;34m\u001b[0m\u001b[0m\n\u001b[0;32m---> 73\u001b[0;31m             \u001b[0msock\u001b[0m\u001b[0;34m.\u001b[0m\u001b[0mconnect\u001b[0m\u001b[0;34m(\u001b[0m\u001b[0msa\u001b[0m\u001b[0;34m)\u001b[0m\u001b[0;34m\u001b[0m\u001b[0m\n\u001b[0m\u001b[1;32m     74\u001b[0m             \u001b[0;32mreturn\u001b[0m \u001b[0msock\u001b[0m\u001b[0;34m\u001b[0m\u001b[0m\n",
      "\u001b[0;31mtimeout\u001b[0m: timed out",
      "\nDuring handling of the above exception, another exception occurred:\n",
      "\u001b[0;31mConnectTimeoutError\u001b[0m                       Traceback (most recent call last)",
      "\u001b[0;32m/Users/lenoxpod/anaconda/lib/python3.5/site-packages/urllib3/connectionpool.py\u001b[0m in \u001b[0;36murlopen\u001b[0;34m(self, method, url, body, headers, retries, redirect, assert_same_host, timeout, pool_timeout, release_conn, chunked, body_pos, **response_kw)\u001b[0m\n\u001b[1;32m    600\u001b[0m                                                   \u001b[0mbody\u001b[0m\u001b[0;34m=\u001b[0m\u001b[0mbody\u001b[0m\u001b[0;34m,\u001b[0m \u001b[0mheaders\u001b[0m\u001b[0;34m=\u001b[0m\u001b[0mheaders\u001b[0m\u001b[0;34m,\u001b[0m\u001b[0;34m\u001b[0m\u001b[0m\n\u001b[0;32m--> 601\u001b[0;31m                                                   chunked=chunked)\n\u001b[0m\u001b[1;32m    602\u001b[0m \u001b[0;34m\u001b[0m\u001b[0m\n",
      "\u001b[0;32m/Users/lenoxpod/anaconda/lib/python3.5/site-packages/urllib3/connectionpool.py\u001b[0m in \u001b[0;36m_make_request\u001b[0;34m(self, conn, method, url, timeout, chunked, **httplib_request_kw)\u001b[0m\n\u001b[1;32m    345\u001b[0m         \u001b[0;32mtry\u001b[0m\u001b[0;34m:\u001b[0m\u001b[0;34m\u001b[0m\u001b[0m\n\u001b[0;32m--> 346\u001b[0;31m             \u001b[0mself\u001b[0m\u001b[0;34m.\u001b[0m\u001b[0m_validate_conn\u001b[0m\u001b[0;34m(\u001b[0m\u001b[0mconn\u001b[0m\u001b[0;34m)\u001b[0m\u001b[0;34m\u001b[0m\u001b[0m\n\u001b[0m\u001b[1;32m    347\u001b[0m         \u001b[0;32mexcept\u001b[0m \u001b[0;34m(\u001b[0m\u001b[0mSocketTimeout\u001b[0m\u001b[0;34m,\u001b[0m \u001b[0mBaseSSLError\u001b[0m\u001b[0;34m)\u001b[0m \u001b[0;32mas\u001b[0m \u001b[0me\u001b[0m\u001b[0;34m:\u001b[0m\u001b[0;34m\u001b[0m\u001b[0m\n",
      "\u001b[0;32m/Users/lenoxpod/anaconda/lib/python3.5/site-packages/urllib3/connectionpool.py\u001b[0m in \u001b[0;36m_validate_conn\u001b[0;34m(self, conn)\u001b[0m\n\u001b[1;32m    849\u001b[0m         \u001b[0;32mif\u001b[0m \u001b[0;32mnot\u001b[0m \u001b[0mgetattr\u001b[0m\u001b[0;34m(\u001b[0m\u001b[0mconn\u001b[0m\u001b[0;34m,\u001b[0m \u001b[0;34m'sock'\u001b[0m\u001b[0;34m,\u001b[0m \u001b[0;32mNone\u001b[0m\u001b[0;34m)\u001b[0m\u001b[0;34m:\u001b[0m  \u001b[0;31m# AppEngine might not have  `.sock`\u001b[0m\u001b[0;34m\u001b[0m\u001b[0m\n\u001b[0;32m--> 850\u001b[0;31m             \u001b[0mconn\u001b[0m\u001b[0;34m.\u001b[0m\u001b[0mconnect\u001b[0m\u001b[0;34m(\u001b[0m\u001b[0;34m)\u001b[0m\u001b[0;34m\u001b[0m\u001b[0m\n\u001b[0m\u001b[1;32m    851\u001b[0m \u001b[0;34m\u001b[0m\u001b[0m\n",
      "\u001b[0;32m/Users/lenoxpod/anaconda/lib/python3.5/site-packages/urllib3/connection.py\u001b[0m in \u001b[0;36mconnect\u001b[0;34m(self)\u001b[0m\n\u001b[1;32m    283\u001b[0m         \u001b[0;31m# Add certificate verification\u001b[0m\u001b[0;34m\u001b[0m\u001b[0;34m\u001b[0m\u001b[0m\n\u001b[0;32m--> 284\u001b[0;31m         \u001b[0mconn\u001b[0m \u001b[0;34m=\u001b[0m \u001b[0mself\u001b[0m\u001b[0;34m.\u001b[0m\u001b[0m_new_conn\u001b[0m\u001b[0;34m(\u001b[0m\u001b[0;34m)\u001b[0m\u001b[0;34m\u001b[0m\u001b[0m\n\u001b[0m\u001b[1;32m    285\u001b[0m \u001b[0;34m\u001b[0m\u001b[0m\n",
      "\u001b[0;32m/Users/lenoxpod/anaconda/lib/python3.5/site-packages/urllib3/connection.py\u001b[0m in \u001b[0;36m_new_conn\u001b[0;34m(self)\u001b[0m\n\u001b[1;32m    145\u001b[0m                 \u001b[0mself\u001b[0m\u001b[0;34m,\u001b[0m \u001b[0;34m\"Connection to %s timed out. (connect timeout=%s)\"\u001b[0m \u001b[0;34m%\u001b[0m\u001b[0;34m\u001b[0m\u001b[0m\n\u001b[0;32m--> 146\u001b[0;31m                 (self.host, self.timeout))\n\u001b[0m\u001b[1;32m    147\u001b[0m \u001b[0;34m\u001b[0m\u001b[0m\n",
      "\u001b[0;31mConnectTimeoutError\u001b[0m: (<urllib3.connection.VerifiedHTTPSConnection object at 0x103e8ff28>, 'Connection to api.ecobee.com timed out. (connect timeout=5)')",
      "\nDuring handling of the above exception, another exception occurred:\n",
      "\u001b[0;31mMaxRetryError\u001b[0m                             Traceback (most recent call last)",
      "\u001b[0;32m/Users/lenoxpod/anaconda/lib/python3.5/site-packages/requests/adapters.py\u001b[0m in \u001b[0;36msend\u001b[0;34m(self, request, stream, timeout, verify, cert, proxies)\u001b[0m\n\u001b[1;32m    439\u001b[0m                     \u001b[0mretries\u001b[0m\u001b[0;34m=\u001b[0m\u001b[0mself\u001b[0m\u001b[0;34m.\u001b[0m\u001b[0mmax_retries\u001b[0m\u001b[0;34m,\u001b[0m\u001b[0;34m\u001b[0m\u001b[0m\n\u001b[0;32m--> 440\u001b[0;31m                     \u001b[0mtimeout\u001b[0m\u001b[0;34m=\u001b[0m\u001b[0mtimeout\u001b[0m\u001b[0;34m\u001b[0m\u001b[0m\n\u001b[0m\u001b[1;32m    441\u001b[0m                 )\n",
      "\u001b[0;32m/Users/lenoxpod/anaconda/lib/python3.5/site-packages/urllib3/connectionpool.py\u001b[0m in \u001b[0;36murlopen\u001b[0;34m(self, method, url, body, headers, retries, redirect, assert_same_host, timeout, pool_timeout, release_conn, chunked, body_pos, **response_kw)\u001b[0m\n\u001b[1;32m    638\u001b[0m             retries = retries.increment(method, url, error=e, _pool=self,\n\u001b[0;32m--> 639\u001b[0;31m                                         _stacktrace=sys.exc_info()[2])\n\u001b[0m\u001b[1;32m    640\u001b[0m             \u001b[0mretries\u001b[0m\u001b[0;34m.\u001b[0m\u001b[0msleep\u001b[0m\u001b[0;34m(\u001b[0m\u001b[0;34m)\u001b[0m\u001b[0;34m\u001b[0m\u001b[0m\n",
      "\u001b[0;32m/Users/lenoxpod/anaconda/lib/python3.5/site-packages/urllib3/util/retry.py\u001b[0m in \u001b[0;36mincrement\u001b[0;34m(self, method, url, response, error, _pool, _stacktrace)\u001b[0m\n\u001b[1;32m    387\u001b[0m         \u001b[0;32mif\u001b[0m \u001b[0mnew_retry\u001b[0m\u001b[0;34m.\u001b[0m\u001b[0mis_exhausted\u001b[0m\u001b[0;34m(\u001b[0m\u001b[0;34m)\u001b[0m\u001b[0;34m:\u001b[0m\u001b[0;34m\u001b[0m\u001b[0m\n\u001b[0;32m--> 388\u001b[0;31m             \u001b[0;32mraise\u001b[0m \u001b[0mMaxRetryError\u001b[0m\u001b[0;34m(\u001b[0m\u001b[0m_pool\u001b[0m\u001b[0;34m,\u001b[0m \u001b[0murl\u001b[0m\u001b[0;34m,\u001b[0m \u001b[0merror\u001b[0m \u001b[0;32mor\u001b[0m \u001b[0mResponseError\u001b[0m\u001b[0;34m(\u001b[0m\u001b[0mcause\u001b[0m\u001b[0;34m)\u001b[0m\u001b[0;34m)\u001b[0m\u001b[0;34m\u001b[0m\u001b[0m\n\u001b[0m\u001b[1;32m    389\u001b[0m \u001b[0;34m\u001b[0m\u001b[0m\n",
      "\u001b[0;31mMaxRetryError\u001b[0m: HTTPSConnectionPool(host='api.ecobee.com', port=443): Max retries exceeded with url: /1/thermostat?json=%7B%0A++%22selection%22%3A+%7B%0A++++%22includeSensors%22%3A+true%2C%0A++++%22selectionMatch%22%3A+%22%22%2C%0A++++%22selectionType%22%3A+%22registered%22%0A++%7D%0A%7D (Caused by ConnectTimeoutError(<urllib3.connection.VerifiedHTTPSConnection object at 0x103e8ff28>, 'Connection to api.ecobee.com timed out. (connect timeout=5)'))",
      "\nDuring handling of the above exception, another exception occurred:\n",
      "\u001b[0;31mConnectTimeout\u001b[0m                            Traceback (most recent call last)",
      "\u001b[0;32m/Users/lenoxpod/anaconda/lib/python3.5/site-packages/pyecobee/service.py\u001b[0m in \u001b[0;36m__make_http_request\u001b[0;34m(requests_http_method, url, headers, params, json_, timeout)\u001b[0m\n\u001b[1;32m    201\u001b[0m                                         \u001b[0mjson\u001b[0m\u001b[0;34m=\u001b[0m\u001b[0mjson_\u001b[0m\u001b[0;34m,\u001b[0m\u001b[0;34m\u001b[0m\u001b[0m\n\u001b[0;32m--> 202\u001b[0;31m                                         timeout=timeout)\n\u001b[0m\u001b[1;32m    203\u001b[0m         \u001b[0;32mexcept\u001b[0m \u001b[0mrequests\u001b[0m\u001b[0;34m.\u001b[0m\u001b[0mexceptions\u001b[0m\u001b[0;34m.\u001b[0m\u001b[0mRequestException\u001b[0m \u001b[0;32mas\u001b[0m \u001b[0mre\u001b[0m\u001b[0;34m:\u001b[0m\u001b[0;34m\u001b[0m\u001b[0m\n",
      "\u001b[0;32m/Users/lenoxpod/anaconda/lib/python3.5/site-packages/requests/api.py\u001b[0m in \u001b[0;36mget\u001b[0;34m(url, params, **kwargs)\u001b[0m\n\u001b[1;32m     71\u001b[0m     \u001b[0mkwargs\u001b[0m\u001b[0;34m.\u001b[0m\u001b[0msetdefault\u001b[0m\u001b[0;34m(\u001b[0m\u001b[0;34m'allow_redirects'\u001b[0m\u001b[0;34m,\u001b[0m \u001b[0;32mTrue\u001b[0m\u001b[0;34m)\u001b[0m\u001b[0;34m\u001b[0m\u001b[0m\n\u001b[0;32m---> 72\u001b[0;31m     \u001b[0;32mreturn\u001b[0m \u001b[0mrequest\u001b[0m\u001b[0;34m(\u001b[0m\u001b[0;34m'get'\u001b[0m\u001b[0;34m,\u001b[0m \u001b[0murl\u001b[0m\u001b[0;34m,\u001b[0m \u001b[0mparams\u001b[0m\u001b[0;34m=\u001b[0m\u001b[0mparams\u001b[0m\u001b[0;34m,\u001b[0m \u001b[0;34m**\u001b[0m\u001b[0mkwargs\u001b[0m\u001b[0;34m)\u001b[0m\u001b[0;34m\u001b[0m\u001b[0m\n\u001b[0m\u001b[1;32m     73\u001b[0m \u001b[0;34m\u001b[0m\u001b[0m\n",
      "\u001b[0;32m/Users/lenoxpod/anaconda/lib/python3.5/site-packages/requests/api.py\u001b[0m in \u001b[0;36mrequest\u001b[0;34m(method, url, **kwargs)\u001b[0m\n\u001b[1;32m     57\u001b[0m     \u001b[0;32mwith\u001b[0m \u001b[0msessions\u001b[0m\u001b[0;34m.\u001b[0m\u001b[0mSession\u001b[0m\u001b[0;34m(\u001b[0m\u001b[0;34m)\u001b[0m \u001b[0;32mas\u001b[0m \u001b[0msession\u001b[0m\u001b[0;34m:\u001b[0m\u001b[0;34m\u001b[0m\u001b[0m\n\u001b[0;32m---> 58\u001b[0;31m         \u001b[0;32mreturn\u001b[0m \u001b[0msession\u001b[0m\u001b[0;34m.\u001b[0m\u001b[0mrequest\u001b[0m\u001b[0;34m(\u001b[0m\u001b[0mmethod\u001b[0m\u001b[0;34m=\u001b[0m\u001b[0mmethod\u001b[0m\u001b[0;34m,\u001b[0m \u001b[0murl\u001b[0m\u001b[0;34m=\u001b[0m\u001b[0murl\u001b[0m\u001b[0;34m,\u001b[0m \u001b[0;34m**\u001b[0m\u001b[0mkwargs\u001b[0m\u001b[0;34m)\u001b[0m\u001b[0;34m\u001b[0m\u001b[0m\n\u001b[0m\u001b[1;32m     59\u001b[0m \u001b[0;34m\u001b[0m\u001b[0m\n",
      "\u001b[0;32m/Users/lenoxpod/anaconda/lib/python3.5/site-packages/requests/sessions.py\u001b[0m in \u001b[0;36mrequest\u001b[0;34m(self, method, url, params, data, headers, cookies, files, auth, timeout, allow_redirects, proxies, hooks, stream, verify, cert, json)\u001b[0m\n\u001b[1;32m    507\u001b[0m         \u001b[0msend_kwargs\u001b[0m\u001b[0;34m.\u001b[0m\u001b[0mupdate\u001b[0m\u001b[0;34m(\u001b[0m\u001b[0msettings\u001b[0m\u001b[0;34m)\u001b[0m\u001b[0;34m\u001b[0m\u001b[0m\n\u001b[0;32m--> 508\u001b[0;31m         \u001b[0mresp\u001b[0m \u001b[0;34m=\u001b[0m \u001b[0mself\u001b[0m\u001b[0;34m.\u001b[0m\u001b[0msend\u001b[0m\u001b[0;34m(\u001b[0m\u001b[0mprep\u001b[0m\u001b[0;34m,\u001b[0m \u001b[0;34m**\u001b[0m\u001b[0msend_kwargs\u001b[0m\u001b[0;34m)\u001b[0m\u001b[0;34m\u001b[0m\u001b[0m\n\u001b[0m\u001b[1;32m    509\u001b[0m \u001b[0;34m\u001b[0m\u001b[0m\n",
      "\u001b[0;32m/Users/lenoxpod/anaconda/lib/python3.5/site-packages/requests/sessions.py\u001b[0m in \u001b[0;36msend\u001b[0;34m(self, request, **kwargs)\u001b[0m\n\u001b[1;32m    617\u001b[0m         \u001b[0;31m# Send the request\u001b[0m\u001b[0;34m\u001b[0m\u001b[0;34m\u001b[0m\u001b[0m\n\u001b[0;32m--> 618\u001b[0;31m         \u001b[0mr\u001b[0m \u001b[0;34m=\u001b[0m \u001b[0madapter\u001b[0m\u001b[0;34m.\u001b[0m\u001b[0msend\u001b[0m\u001b[0;34m(\u001b[0m\u001b[0mrequest\u001b[0m\u001b[0;34m,\u001b[0m \u001b[0;34m**\u001b[0m\u001b[0mkwargs\u001b[0m\u001b[0;34m)\u001b[0m\u001b[0;34m\u001b[0m\u001b[0m\n\u001b[0m\u001b[1;32m    619\u001b[0m \u001b[0;34m\u001b[0m\u001b[0m\n",
      "\u001b[0;32m/Users/lenoxpod/anaconda/lib/python3.5/site-packages/requests/adapters.py\u001b[0m in \u001b[0;36msend\u001b[0;34m(self, request, stream, timeout, verify, cert, proxies)\u001b[0m\n\u001b[1;32m    495\u001b[0m                 \u001b[0;32mif\u001b[0m \u001b[0;32mnot\u001b[0m \u001b[0misinstance\u001b[0m\u001b[0;34m(\u001b[0m\u001b[0me\u001b[0m\u001b[0;34m.\u001b[0m\u001b[0mreason\u001b[0m\u001b[0;34m,\u001b[0m \u001b[0mNewConnectionError\u001b[0m\u001b[0;34m)\u001b[0m\u001b[0;34m:\u001b[0m\u001b[0;34m\u001b[0m\u001b[0m\n\u001b[0;32m--> 496\u001b[0;31m                     \u001b[0;32mraise\u001b[0m \u001b[0mConnectTimeout\u001b[0m\u001b[0;34m(\u001b[0m\u001b[0me\u001b[0m\u001b[0;34m,\u001b[0m \u001b[0mrequest\u001b[0m\u001b[0;34m=\u001b[0m\u001b[0mrequest\u001b[0m\u001b[0;34m)\u001b[0m\u001b[0;34m\u001b[0m\u001b[0m\n\u001b[0m\u001b[1;32m    497\u001b[0m \u001b[0;34m\u001b[0m\u001b[0m\n",
      "\u001b[0;31mConnectTimeout\u001b[0m: HTTPSConnectionPool(host='api.ecobee.com', port=443): Max retries exceeded with url: /1/thermostat?json=%7B%0A++%22selection%22%3A+%7B%0A++++%22includeSensors%22%3A+true%2C%0A++++%22selectionMatch%22%3A+%22%22%2C%0A++++%22selectionType%22%3A+%22registered%22%0A++%7D%0A%7D (Caused by ConnectTimeoutError(<urllib3.connection.VerifiedHTTPSConnection object at 0x103e8ff28>, 'Connection to api.ecobee.com timed out. (connect timeout=5)'))",
      "\nDuring handling of the above exception, another exception occurred:\n",
      "\u001b[0;31mAttributeError\u001b[0m                            Traceback (most recent call last)",
      "\u001b[0;32m<ipython-input-182-8b19105c7576>\u001b[0m in \u001b[0;36m<module>\u001b[0;34m()\u001b[0m\n\u001b[1;32m     27\u001b[0m     \u001b[0;31m#Returns the thermostat_response object including the temperature readings\u001b[0m\u001b[0;34m\u001b[0m\u001b[0;34m\u001b[0m\u001b[0m\n\u001b[1;32m     28\u001b[0m \u001b[0;34m\u001b[0m\u001b[0m\n\u001b[0;32m---> 29\u001b[0;31m     \u001b[0mthermostat_response\u001b[0m \u001b[0;34m=\u001b[0m \u001b[0mecobee_service\u001b[0m\u001b[0;34m.\u001b[0m\u001b[0mrequest_thermostats\u001b[0m\u001b[0;34m(\u001b[0m\u001b[0mselection\u001b[0m\u001b[0;34m)\u001b[0m\u001b[0;34m\u001b[0m\u001b[0m\n\u001b[0m\u001b[1;32m     30\u001b[0m \u001b[0;34m\u001b[0m\u001b[0m\n\u001b[1;32m     31\u001b[0m     \u001b[0;31m#convert this response to a string, and then a tuple\u001b[0m\u001b[0;34m\u001b[0m\u001b[0;34m\u001b[0m\u001b[0m\n",
      "\u001b[0;32m/Users/lenoxpod/anaconda/lib/python3.5/site-packages/pyecobee/service.py\u001b[0m in \u001b[0;36mrequest_thermostats\u001b[0;34m(self, selection, timeout)\u001b[0m\n\u001b[1;32m    364\u001b[0m                                                               'Content-Type': 'application/json;charset=UTF-8'},\n\u001b[1;32m    365\u001b[0m                                                      \u001b[0mparams\u001b[0m\u001b[0;34m=\u001b[0m\u001b[0;34m{\u001b[0m\u001b[0;34m'json'\u001b[0m\u001b[0;34m:\u001b[0m \u001b[0mjson\u001b[0m\u001b[0;34m.\u001b[0m\u001b[0mdumps\u001b[0m\u001b[0;34m(\u001b[0m\u001b[0mdictionary\u001b[0m\u001b[0;34m,\u001b[0m \u001b[0msort_keys\u001b[0m\u001b[0;34m=\u001b[0m\u001b[0;32mTrue\u001b[0m\u001b[0;34m,\u001b[0m \u001b[0mindent\u001b[0m\u001b[0;34m=\u001b[0m\u001b[0;36m2\u001b[0m\u001b[0;34m)\u001b[0m\u001b[0;34m}\u001b[0m\u001b[0;34m,\u001b[0m\u001b[0;34m\u001b[0m\u001b[0m\n\u001b[0;32m--> 366\u001b[0;31m                                                      timeout=timeout)\n\u001b[0m\u001b[1;32m    367\u001b[0m         \u001b[0;32mreturn\u001b[0m \u001b[0mEcobeeService\u001b[0m\u001b[0;34m.\u001b[0m\u001b[0m__process_http_response\u001b[0m\u001b[0;34m(\u001b[0m\u001b[0mresponse\u001b[0m\u001b[0;34m,\u001b[0m \u001b[0mEcobeeThermostatResponse\u001b[0m\u001b[0;34m)\u001b[0m\u001b[0;34m\u001b[0m\u001b[0m\n\u001b[1;32m    368\u001b[0m \u001b[0;34m\u001b[0m\u001b[0m\n",
      "\u001b[0;32m/Users/lenoxpod/anaconda/lib/python3.5/site-packages/pyecobee/service.py\u001b[0m in \u001b[0;36m__make_http_request\u001b[0;34m(requests_http_method, url, headers, params, json_, timeout)\u001b[0m\n\u001b[1;32m    203\u001b[0m         \u001b[0;32mexcept\u001b[0m \u001b[0mrequests\u001b[0m\u001b[0;34m.\u001b[0m\u001b[0mexceptions\u001b[0m\u001b[0;34m.\u001b[0m\u001b[0mRequestException\u001b[0m \u001b[0;32mas\u001b[0m \u001b[0mre\u001b[0m\u001b[0;34m:\u001b[0m\u001b[0;34m\u001b[0m\u001b[0m\n\u001b[1;32m    204\u001b[0m             \u001b[0mtraceback\u001b[0m \u001b[0;34m=\u001b[0m \u001b[0msys\u001b[0m\u001b[0;34m.\u001b[0m\u001b[0mexc_info\u001b[0m\u001b[0;34m(\u001b[0m\u001b[0;34m)\u001b[0m\u001b[0;34m[\u001b[0m\u001b[0;36m2\u001b[0m\u001b[0;34m]\u001b[0m\u001b[0;34m\u001b[0m\u001b[0m\n\u001b[0;32m--> 205\u001b[0;31m             \u001b[0mraise_\u001b[0m\u001b[0;34m(\u001b[0m\u001b[0mEcobeeRequestsException\u001b[0m\u001b[0;34m,\u001b[0m \u001b[0mre\u001b[0m\u001b[0;34m.\u001b[0m\u001b[0mmessage\u001b[0m\u001b[0;34m,\u001b[0m \u001b[0mtraceback\u001b[0m\u001b[0;34m)\u001b[0m\u001b[0;34m\u001b[0m\u001b[0m\n\u001b[0m\u001b[1;32m    206\u001b[0m \u001b[0;34m\u001b[0m\u001b[0m\n\u001b[1;32m    207\u001b[0m     \u001b[0;32mdef\u001b[0m \u001b[0mauthorize\u001b[0m\u001b[0;34m(\u001b[0m\u001b[0mself\u001b[0m\u001b[0;34m,\u001b[0m \u001b[0mresponse_type\u001b[0m\u001b[0;34m=\u001b[0m\u001b[0;34m'ecobeePin'\u001b[0m\u001b[0;34m,\u001b[0m \u001b[0mtimeout\u001b[0m\u001b[0;34m=\u001b[0m\u001b[0;36m5\u001b[0m\u001b[0;34m)\u001b[0m\u001b[0;34m:\u001b[0m\u001b[0;34m\u001b[0m\u001b[0m\n",
      "\u001b[0;31mAttributeError\u001b[0m: 'ConnectTimeout' object has no attribute 'message'"
     ]
    }
   ],
   "source": [
    "from time import sleep\n",
    "import datetime\n",
    "\n",
    "#initialize plug states before loop\n",
    "\n",
    "office_plug_on = False \n",
    "mbed_plug_on = False \n",
    "orm_plug_on = False \n",
    "lrm_plug_on = False \n",
    "\n",
    "while True:\n",
    "        \n",
    "# Full payload here for reference, not used  \n",
    "# selection = Selection(selection_type=SelectionType.REGISTERED.value, selection_match='', include_alerts=True,\n",
    "#                     include_device=True, include_electricity=False, include_equipment_status=False,\n",
    "#                    include_events=False, include_extended_runtime=False, include_house_details=False,\n",
    "#                      include_location=False, include_management=False, include_notification_settings=False,\n",
    "#                      include_oem_cfg=False, include_privacy=False, include_program=False, include_reminders=False,\n",
    "#                      include_runtime=False, include_security_settings=False, include_sensors=True,\n",
    "#                      include_settings=False, include_technician=False, include_utility=False, include_version=False,\n",
    "#                      include_weather=False)\n",
    "\n",
    "    #selection of parameters\n",
    "    \n",
    "    selection = Selection(selection_type=SelectionType.REGISTERED.value, selection_match='',include_sensors=True)\n",
    "\n",
    "    #Returns the thermostat_response object including the temperature readings\n",
    "\n",
    "    thermostat_response = ecobee_service.request_thermostats(selection)\n",
    "\n",
    "    #convert this response to a string, and then a tuple\n",
    "\n",
    "    tstat_string = str(thermostat_response)\n",
    "\n",
    "    tstat_list = tstat_string.split(\",\")\n",
    "\n",
    "    tstat_tuple = tuple(tstat_list,)\n",
    "\n",
    "    #uncomment and use this to determine location of new values\n",
    "    # e.g. remote sensor readings\n",
    "    \n",
    "    x = 0\n",
    "    \n",
    "    while x <= 100:\n",
    "   \n",
    "        print(x, tstat_tuple[x]) \n",
    "    \n",
    "        x = x+1\n",
    "    \n",
    "    # get the values from the tuple\n",
    "\n",
    "    tstat_name = tstat_tuple[47][7:-1]\n",
    "\n",
    "    tstat_temp_string = tstat_tuple[53][8:-2]\n",
    "\n",
    "    #Convert temp string to an number\n",
    "\n",
    "    tstat_temp = float(tstat_temp_string)/10\n",
    "    \n",
    "    #timestamp and time for logic\n",
    "\n",
    "    timestamp = '{:%Y-%m-%d %H:%M:%S}'.format(datetime.datetime.now())\n",
    "\n",
    "    dectime = float(timestamp[11:13])+float(timestamp[14:16])/60\n",
    "    \n",
    "    # Setpoints and logic for smart plug state\n",
    "    # Temp setpoints in F\n",
    "    # Time setpoints in decimal hours, 24 hour time\n",
    "    \n",
    "    office_temp_upp = 68.0\n",
    "    office_temp_low = 65.0\n",
    "    office_on_from_time = 19.0\n",
    "    office_on_to_time = 8.0\n",
    "    \n",
    "    #debug conditionals\n",
    "    \n",
    "    #print('temp under lower bound:',tstat_temp <= temp_low)\n",
    "    #print('time in bounds:',dectime >= on_from_time and dectime <= on_to_time)\n",
    "    \n",
    "    if tstat_temp <= office_temp_low and dectime >= office_on_from_time and dectime <= office_on_to_time:\n",
    "        office_plug_on = True\n",
    "        office_plug_state = 1\n",
    "    elif tstat_temp >= office_temp_upp or dectime < office_on_from_time or dectime > office_on_to_time:\n",
    "        office_plug_on = False\n",
    "        office_plug_state = 2\n",
    "    else:\n",
    "        office_plug_on = office_plug_on\n",
    "        office_plugstate = 3\n",
    "    \n",
    "    #End logic\n",
    "    \n",
    "    print(timestamp, tstat_name, tstat_temp, 'Office plug is On? ',office_plug_on)\n",
    "    \n",
    "    sleep(300) \n",
    "\n",
    "    \n",
    "    token_response = ecobee_service.refresh_tokens() #refresh token\n",
    "\n",
    "    #Next step ... Do similar to above for sensors\n",
    "    #Exception handling to exit the loop & error message\n",
    "    #logging\n",
    "    #Link to smart plug\n",
    "    #plotly?\n"
   ]
  },
  {
   "cell_type": "code",
   "execution_count": 59,
   "metadata": {
    "collapsed": false
   },
   "outputs": [
    {
     "name": "stdout",
     "output_type": "stream",
     "text": [
      "(0, 65.0, False)\n",
      "(0, 66.0, False)\n",
      "(0, 67.0, False)\n",
      "(0, 68.0, False)\n",
      "(0, 69.0, False)\n",
      "(0, 70.0, False)\n",
      "(1, 65, True)\n",
      "(1, 66, True)\n",
      "(1, 67, True)\n",
      "(1, 68, False)\n",
      "(1, 69, False)\n",
      "(1, 70, False)\n",
      "(2, 65, True)\n",
      "(2, 66, True)\n",
      "(2, 67, True)\n",
      "(2, 68, False)\n",
      "(2, 69, False)\n",
      "(2, 70, False)\n",
      "(3, 65, False)\n",
      "(3, 66, False)\n",
      "(3, 67, False)\n",
      "(3, 68, False)\n",
      "(3, 69, False)\n",
      "(3, 70, False)\n",
      "_________________________________\n",
      "(0, 70, False)\n",
      "(0, 69, False)\n",
      "(0, 68, False)\n",
      "(0, 67, False)\n",
      "(0, 66, False)\n",
      "(0, 65, False)\n",
      "(1, 70, False)\n",
      "(1, 69, False)\n",
      "(1, 68, False)\n",
      "(1, 67, False)\n",
      "(1, 66, False)\n",
      "(1, 65, True)\n",
      "(2, 70, False)\n",
      "(2, 69, False)\n",
      "(2, 68, False)\n",
      "(2, 67, False)\n",
      "(2, 66, False)\n",
      "(2, 65, True)\n",
      "(3, 70, False)\n",
      "(3, 69, False)\n",
      "(3, 68, False)\n",
      "(3, 67, False)\n",
      "(3, 66, False)\n",
      "(3, 65, False)\n"
     ]
    }
   ],
   "source": [
    "    # logic simulator -- test before using above\n",
    "    i = 0\n",
    "    j = 0\n",
    "    tstat_temp = 65.0\n",
    "    dectime = 0\n",
    "    plug_on = True\n",
    "    temp_upp = 68.0\n",
    "    temp_low = 65.0\n",
    "    on_from_time = 1\n",
    "    on_to_time = 2\n",
    "    \n",
    "    for i in range (0,4):\n",
    "        for j in range (0,6):\n",
    "     \n",
    "            if tstat_temp <= temp_low and dectime >= on_from_time and dectime <= on_to_time:\n",
    "                plug_on = True\n",
    "            elif tstat_temp >= temp_upp or dectime < on_from_time or dectime > on_to_time:\n",
    "                plug_on = False\n",
    "            else:\n",
    "                plug_on = plug_on\n",
    "        \n",
    "            print(dectime, tstat_temp, plug_on)\n",
    "            tstat_temp = tstat_temp + 1  \n",
    "            j = j+1\n",
    "        dectime = dectime + 1\n",
    "        tstat_temp = 65\n",
    "        i = i+1\n",
    "    print('_________________________________')    \n",
    "    tstat_temp = 70\n",
    "    dectime = 0\n",
    "    for i in range (0,4):\n",
    "        for j in range (0,6):\n",
    "     \n",
    "            if tstat_temp <= temp_low and dectime >= on_from_time and dectime <= on_to_time:\n",
    "                plug_on = True\n",
    "            elif tstat_temp >= temp_upp or dectime < on_from_time or dectime > on_to_time:\n",
    "                plug_on = False\n",
    "            else:\n",
    "                plug_on = plug_on\n",
    "        \n",
    "            print(dectime, tstat_temp, plug_on)\n",
    "            tstat_temp = tstat_temp - 1  \n",
    "            j = j+1\n",
    "        dectime = dectime + 1\n",
    "        tstat_temp = 70\n",
    "        i = i+1"
   ]
  },
  {
   "cell_type": "code",
   "execution_count": 160,
   "metadata": {
    "collapsed": false
   },
   "outputs": [
    {
     "name": "stdout",
     "output_type": "stream",
     "text": [
      "9 39 0.65\n",
      "2017-09-10 09:39:20 9.65\n"
     ]
    }
   ],
   "source": [
    "timestamp = '{:%Y-%m-%d %H:%M:%S}'.format(datetime.datetime.now())\n",
    "\n",
    "hour = timestamp[12:13]\n",
    "minute = timestamp[14:16]\n",
    "decminute = float(minute)/60\n",
    "\n",
    "print(hour, minute, decminute)\n",
    "\n",
    "dectime = float(timestamp[12:13])+float(timestamp[14:16])/60 #something is screwy with this math\n",
    "\n",
    "print(timestamp, dectime)"
   ]
  },
  {
   "cell_type": "code",
   "execution_count": 78,
   "metadata": {
    "collapsed": false
   },
   "outputs": [
    {
     "name": "stdout",
     "output_type": "stream",
     "text": [
      "('access token:', '7Qnfp0tLpj4o3WZJhTfSrUDOuoQD21Dl')\n",
      "('token type:', '3b672Qx2B4gk3AExIlfnPMKGxkm71ngS')\n",
      "('refresh token:', '3b672Qx2B4gk3AExIlfnPMKGxkm71ngS')\n"
     ]
    }
   ],
   "source": [
    "#test file write / read for tokens\n",
    "\n",
    "#Write tokens to file\n",
    "\n",
    "f=open(\"tokens.txt\",\"w+\")\n",
    "f.write(access_token)\n",
    "f.write(\",\")\n",
    "f.write(token_type)\n",
    "f.write(\",\")\n",
    "f.write(refresh_token)\n",
    "f.close\n",
    "\n",
    "access_token=\"none\"\n",
    "token_type=\"none\"\n",
    "refresh_token=\"none\"\n",
    "\n",
    "f=open(\"tokens.txt\",\"r\")\n",
    "\n",
    "token_str = str(f.read())\n",
    "\n",
    "f.close\n",
    "\n",
    "token_list = token_str.split(\",\")\n",
    "\n",
    "access_token = token_list[0]\n",
    "token_type = token_list[1]\n",
    "refresh_token = token_list[2]\n",
    "\n",
    "print(\"access token:\", access_token)\n",
    "print(\"token type:\", token_type)\n",
    "print(\"refresh token:\", refresh_token)"
   ]
  },
  {
   "cell_type": "code",
   "execution_count": null,
   "metadata": {
    "collapsed": true
   },
   "outputs": [],
   "source": []
  }
 ],
 "metadata": {
  "anaconda-cloud": {},
  "kernelspec": {
   "display_name": "Python 2",
   "language": "python",
   "name": "python2"
  },
  "language_info": {
   "codemirror_mode": {
    "name": "ipython",
    "version": 2
   },
   "file_extension": ".py",
   "mimetype": "text/x-python",
   "name": "python",
   "nbconvert_exporter": "python",
   "pygments_lexer": "ipython2",
   "version": "2.7.13"
  }
 },
 "nbformat": 4,
 "nbformat_minor": 0
}
